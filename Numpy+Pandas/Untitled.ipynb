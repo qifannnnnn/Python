{
 "cells": [
  {
   "cell_type": "code",
   "execution_count": 2,
   "metadata": {},
   "outputs": [],
   "source": [
    "import itertools as it\n",
    "class Solution:\n",
    "    def findSubsequences(self, nums):\n",
    "        def dfs(nums):\n",
    "            if len(nums)==1: pass\n",
    "            else:\n",
    "                for i in range(1,len(nums)):\n",
    "                    if nums[i]>=nums[0]:\n",
    "                        temp.append(nums[i])\n",
    "                        dfs(nums[i:])\n",
    "                        break\n",
    "            return temp\n",
    "                \n",
    "                \n",
    "        ans,l,result=[],len(nums),[]\n",
    "        for i in range(len(nums)):\n",
    "            temp=[nums[i]]\n",
    "            temp=dfs(nums[i:])\n",
    "            ans.append(temp)\n",
    "            temp=[]\n",
    "\n",
    "        for i in ans:\n",
    "            if len(i)>=2:\n",
    "                for j in range(2,len(i)+1):\n",
    "                    for k in it.combinations(i,j):\n",
    "                        if not list(k) in result:\n",
    "                            result.append(list(k))\n",
    "                        \n",
    "                \n",
    "        return ans"
   ]
  },
  {
   "cell_type": "code",
   "execution_count": 10,
   "metadata": {},
   "outputs": [],
   "source": [
    "def findSubsequences(nums):\n",
    "    subs = {()}\n",
    "    for num in nums:\n",
    "        subs |= {sub + (num,)\n",
    "                 for sub in subs\n",
    "                 if not sub or sub[-1] <= num}\n",
    "        print(subs)\n",
    "    return [sub for sub in subs if len(sub) >= 2]\n"
   ]
  },
  {
   "cell_type": "code",
   "execution_count": 24,
   "metadata": {},
   "outputs": [
    {
     "name": "stdout",
     "output_type": "stream",
     "text": [
      "{(), (4,)}\n",
      "{(6,), (), (4, 6), (4,)}\n",
      "{(4, 7), (6, 7), (4, 6), (4,), (), (6,), (7,), (4, 6, 7)}\n",
      "{(4, 7), (6, 7), (4, 6), (4, 6, 7, 7), (7, 7), (4,), (), (6,), (4, 7, 7), (7,), (4, 6, 7), (6, 7, 7)}\n"
     ]
    },
    {
     "data": {
      "text/plain": [
       "[(4, 7), (6, 7), (4, 6), (4, 6, 7, 7), (7, 7), (4, 7, 7), (4, 6, 7), (6, 7, 7)]"
      ]
     },
     "execution_count": 24,
     "metadata": {},
     "output_type": "execute_result"
    }
   ],
   "source": [
    "a=[4,6,7,7]\n",
    "findSubsequences(a)"
   ]
  },
  {
   "cell_type": "code",
   "execution_count": 23,
   "metadata": {},
   "outputs": [],
   "source": [
    "a={(1,2)}\n",
    "a|={(1,2)}"
   ]
  },
  {
   "cell_type": "code",
   "execution_count": null,
   "metadata": {},
   "outputs": [],
   "source": []
  }
 ],
 "metadata": {
  "kernelspec": {
   "display_name": "Python 3",
   "language": "python",
   "name": "python3"
  },
  "language_info": {
   "codemirror_mode": {
    "name": "ipython",
    "version": 3
   },
   "file_extension": ".py",
   "mimetype": "text/x-python",
   "name": "python",
   "nbconvert_exporter": "python",
   "pygments_lexer": "ipython3",
   "version": "3.7.4"
  }
 },
 "nbformat": 4,
 "nbformat_minor": 2
}
