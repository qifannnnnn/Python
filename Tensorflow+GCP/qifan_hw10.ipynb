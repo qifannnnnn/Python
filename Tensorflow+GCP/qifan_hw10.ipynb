{
 "cells": [
  {
   "cell_type": "code",
   "execution_count": 12,
   "metadata": {},
   "outputs": [],
   "source": [
    "import tensorflow as tf\n",
    "import numpy as np"
   ]
  },
  {
   "cell_type": "code",
   "execution_count": 14,
   "metadata": {},
   "outputs": [],
   "source": [
    "# 5*4*3 with numpy\n",
    "#layer1=np.array([[1,1,1],[1,0,0],[1,0,0],[1,0,0]])\n",
    "#layer2=np.array([[0,0,0],[1,0,0],[0,0,0],[0,0,0]])\n",
    "#layer3=np.array([[0,0,0],[1,1,0],[0,0,0],[0,0,0]])\n",
    "#layer4=np.array([[0,0,0],[1,0,0],[0,0,0],[0,0,0]])\n",
    "#layer5=np.array([[0,0,0],[1,0,0],[0,0,0],[0,0,0]])\n",
    "layer1=np.array([[0,0,1],[0,0,1],[0,0,1],[1,1,1]])\n",
    "layer2=np.array([[0,0,0],[0,0,0],[0,0,1],[0,0,0]])\n",
    "layer3=np.array([[0,0,0],[0,0,0],[0,1,1],[0,0,0]])\n",
    "layer4=np.array([[0,0,0],[0,0,0],[0,0,1],[0,0,0]])\n",
    "layer5=np.array([[0,0,0],[0,0,0],[0,0,1],[0,0,0]])\n",
    "logo=np.array([layer1,layer2,layer3,layer4,layer5])"
   ]
  },
  {
   "cell_type": "code",
   "execution_count": 16,
   "metadata": {},
   "outputs": [
    {
     "name": "stdout",
     "output_type": "stream",
     "text": [
      "[[[0 0 1]\n",
      "  [0 0 1]\n",
      "  [0 0 1]\n",
      "  [1 1 1]]\n",
      "\n",
      " [[0 0 0]\n",
      "  [0 0 0]\n",
      "  [0 0 1]\n",
      "  [0 0 0]]\n",
      "\n",
      " [[0 0 0]\n",
      "  [0 0 0]\n",
      "  [0 1 1]\n",
      "  [0 0 0]]\n",
      "\n",
      " [[0 0 0]\n",
      "  [0 0 0]\n",
      "  [0 0 1]\n",
      "  [0 0 0]]\n",
      "\n",
      " [[0 0 0]\n",
      "  [0 0 0]\n",
      "  [0 0 1]\n",
      "  [0 0 0]]]\n"
     ]
    },
    {
     "data": {
      "text/plain": [
       "TensorShape([Dimension(5), Dimension(4), Dimension(3)])"
      ]
     },
     "execution_count": 16,
     "metadata": {},
     "output_type": "execute_result"
    }
   ],
   "source": [
    "sess=tf.Session()\n",
    "tflogo=tf.constant(logo)\n",
    "with sess.as_default():\n",
    "    print (tflogo.eval())\n",
    "tflogo.shape"
   ]
  },
  {
   "cell_type": "code",
   "execution_count": 5,
   "metadata": {},
   "outputs": [
    {
     "name": "stdout",
     "output_type": "stream",
     "text": [
      "WARNING:tensorflow:From c:\\users\\qifan\\.conda\\envs\\tensorflow_env\\lib\\site-packages\\tensorflow\\python\\framework\\op_def_library.py:263: colocate_with (from tensorflow.python.framework.ops) is deprecated and will be removed in a future version.\n",
      "Instructions for updating:\n",
      "Colocations handled automatically by placer.\n"
     ]
    }
   ],
   "source": [
    "# Build the logit model\n",
    "x=tf.placeholder(tf.float32,[None,6])\n",
    "ytrue=tf.placeholder(tf.float32,[None,1])\n",
    "W=tf.Variable(tf.zeros([6,1]))\n",
    "b=tf.Variable(tf.zeros([1]))\n",
    "z=tf.matmul(x,W)+b\n",
    "y=tf.exp(z)/(1+tf.exp(z))\n",
    "# Negative log likelihood: sum of p^y*1-p^(1-y)\n",
    "loss=tf.reduce_sum(-ytrue*tf.log(y)-(1-ytrue)*tf.log(1-y))"
   ]
  },
  {
   "cell_type": "code",
   "execution_count": 117,
   "metadata": {},
   "outputs": [],
   "source": [
    "xtest=np.load(\"logistic_xtest.npy\") #500*6\n",
    "xtrain=np.load(\"logistic_xtrain.npy\") # 2000*6\n",
    "ytest=np.load(\"logistic_ytest.npy\") # 500*1\n",
    "ytrain=np.load(\"logistic_ytrain.npy\") # 2000*1"
   ]
  },
  {
   "cell_type": "code",
   "execution_count": 118,
   "metadata": {},
   "outputs": [],
   "source": [
    "# Train the data\n",
    "init=tf.global_variables_initializer()\n",
    "train=tf.train.GradientDescentOptimizer(0.005).minimize(loss)\n",
    "sess.run(init)\n",
    "for i in range(1000):\n",
    "    _,loss_val=sess.run([train,loss],{x:xtrain,ytrue:ytrain})\n",
    "    #print(loss_val)"
   ]
  },
  {
   "cell_type": "code",
   "execution_count": 119,
   "metadata": {},
   "outputs": [
    {
     "name": "stdout",
     "output_type": "stream",
     "text": [
      "[array([[0.97808135],\n",
      "       [1.2326875 ],\n",
      "       [1.4982153 ],\n",
      "       [3.0153084 ],\n",
      "       [4.6440253 ],\n",
      "       [7.528404  ]], dtype=float32), array([-0.95491993], dtype=float32)]\n"
     ]
    }
   ],
   "source": [
    "print(sess.run([W,b]))"
   ]
  },
  {
   "cell_type": "code",
   "execution_count": 120,
   "metadata": {},
   "outputs": [],
   "source": [
    "#sess=tf.Session()\n",
    "# Test the data\n",
    "# Negative log likelihood\n",
    "xtest=tf.constant(xtest,dtype=tf.float32)\n",
    "ytest=tf.constant(ytest,dtype=tf.float32)\n",
    "z_test=tf.matmul(xtest,W)+b\n",
    "y_test=tf.exp(z_test)/(1+tf.exp(z_test))\n",
    "loss_test=tf.reduce_sum(-ytest*tf.log(y_test)-(1-ytest)*tf.log(1-y_test))\n",
    "# Accuracy\n",
    "correct=tf.equal(tf.argmax([y_test,1-y_test],0),tf.argmax([ytest,1-ytest],0))\n",
    "accuracy=tf.reduce_mean(tf.cast(correct,tf.float32))"
   ]
  },
  {
   "cell_type": "code",
   "execution_count": 233,
   "metadata": {},
   "outputs": [
    {
     "name": "stdout",
     "output_type": "stream",
     "text": [
      "163.01419\n",
      "0.858\n"
     ]
    }
   ],
   "source": [
    "with sess.as_default():\n",
    "    print (loss_test.eval())\n",
    "    print(accuracy.eval())"
   ]
  },
  {
   "cell_type": "markdown",
   "metadata": {},
   "source": [
    "#### The negative log-likelihood is 163.01419 and the classification accuracy is about 85.8%  "
   ]
  },
  {
   "cell_type": "code",
   "execution_count": 122,
   "metadata": {},
   "outputs": [
    {
     "name": "stdout",
     "output_type": "stream",
     "text": [
      "[[4.8042741e-04]\n",
      " [5.4143459e-02]\n",
      " [2.5178787e-01]\n",
      " [2.3434650e-04]\n",
      " [1.2671797e-01]\n",
      " [2.2240256e-01]]\n",
      "[0.00203221]\n"
     ]
    }
   ],
   "source": [
    "## Calculate the squared error\n",
    "#sess=tf.Session()\n",
    "W_real=tf.constant([[1],[1],[2],[3],[5],[8]],dtype=tf.float32)\n",
    "b_real=tf.constant([-1],dtype=tf.float32)\n",
    "sq_W=tf.square(W-W_real)\n",
    "sq_b=tf.square(b-b_real)\n",
    "with sess.as_default():\n",
    "    print (sq_W.eval())\n",
    "    print(sq_b.eval())"
   ]
  },
  {
   "cell_type": "markdown",
   "metadata": {},
   "source": [
    "#### Mathematically speaking, the squared error is the sum of (bias)^2 and variance, where bias is defined as E(theta_estimation)-theta_true and variance is var(theta_estimation)"
   ]
  },
  {
   "cell_type": "code",
   "execution_count": 123,
   "metadata": {},
   "outputs": [],
   "source": [
    "results_logistic={\"W\":sess.run(W),\"Wsqerr\":sess.run(sq_W),\"b\":sess.run(b),\"bsqerr\":sess.run(sq_b),\"log_lik_test\": sess.run(loss_test)}\n"
   ]
  },
  {
   "cell_type": "code",
   "execution_count": 124,
   "metadata": {},
   "outputs": [
    {
     "data": {
      "text/plain": [
       "{'W': array([[0.97808135],\n",
       "        [1.2326875 ],\n",
       "        [1.4982153 ],\n",
       "        [3.0153084 ],\n",
       "        [4.6440253 ],\n",
       "        [7.528404  ]], dtype=float32), 'Wsqerr': array([[4.8042741e-04],\n",
       "        [5.4143459e-02],\n",
       "        [2.5178787e-01],\n",
       "        [2.3434650e-04],\n",
       "        [1.2671797e-01],\n",
       "        [2.2240256e-01]], dtype=float32), 'b': array([-0.95491993], dtype=float32), 'bsqerr': array([0.00203221], dtype=float32), 'log_lik_test': 163.01419}"
      ]
     },
     "execution_count": 124,
     "metadata": {},
     "output_type": "execute_result"
    }
   ],
   "source": [
    "results_logistic"
   ]
  },
  {
   "cell_type": "code",
   "execution_count": 66,
   "metadata": {},
   "outputs": [],
   "source": [
    "# Classification of normally distributed data with Adagrad\n",
    "xtest2=np.load(\"normal_xtest.npy\") #500*1\n",
    "xtrain2=np.load(\"normal_xtrain.npy\") # 2000*1\n",
    "ytest2=np.load(\"normal_ytest.npy\") # 500*3\n",
    "ytrain2=np.load(\"normal_ytrain.npy\") # 2000*3"
   ]
  },
  {
   "cell_type": "code",
   "execution_count": 70,
   "metadata": {},
   "outputs": [],
   "source": [
    "import math as m\n",
    "x2=tf.placeholder(tf.float32,[None,1])\n",
    "ytrue2=tf.placeholder(tf.float32,[None,3])\n",
    "mu=tf.Variable(tf.ones([3]))\n",
    "sigma2=tf.Variable(tf.ones([3]))\n",
    "## Loss function -ylog()\n",
    "# Normal distribution function: 1/sqrt(2*pie*sigma2)*exp(-(x-mu)/2/sigma2)\n",
    "p=1/tf.sqrt(2*m.pi*sigma2)*tf.exp(-tf.pow((x2-mu),2)/2/sigma2) # 2 probabilities\n",
    "loss2=tf.reduce_mean(tf.reduce_sum(-ytrue2*tf.log(p),reduction_indices=[1]))\n",
    "# Add the prediction\n",
    "prediction=tf.argmax(p,1)+1"
   ]
  },
  {
   "cell_type": "code",
   "execution_count": null,
   "metadata": {},
   "outputs": [],
   "source": []
  },
  {
   "cell_type": "code",
   "execution_count": 71,
   "metadata": {},
   "outputs": [
    {
     "name": "stderr",
     "output_type": "stream",
     "text": [
      "C:\\Users\\lenovo\\Envs\\pyenv36\\lib\\site-packages\\tensorflow\\python\\client\\session.py:1735: UserWarning: An interactive session is already active. This can cause out-of-memory errors in some cases. You must explicitly call `InteractiveSession.close()` to release resources held by the other session(s).\n",
      "  warnings.warn('An interactive session is already active. This can '\n"
     ]
    }
   ],
   "source": [
    "sess2=tf.InteractiveSession()\n",
    "train2=tf.train.AdagradOptimizer(0.08).minimize(loss2)\n",
    "init2=tf.initialize_all_variables().run()\n",
    "for i in range(3000):\n",
    "    _,loss2_val,predict=sess2.run([train2,loss2,prediction],{x2:xtrain2,ytrue2:ytrain2})"
   ]
  },
  {
   "cell_type": "code",
   "execution_count": 72,
   "metadata": {},
   "outputs": [
    {
     "name": "stdout",
     "output_type": "stream",
     "text": [
      "[0.5333826 1.0087531 1.5160059]\n",
      "[-1.0076363   0.00449133  3.0048532 ]\n"
     ]
    }
   ],
   "source": [
    "with sess2.as_default():\n",
    "    print (sigma2.eval())\n",
    "    print (mu.eval())\n",
    "#print (predict)"
   ]
  },
  {
   "cell_type": "code",
   "execution_count": 73,
   "metadata": {},
   "outputs": [],
   "source": [
    "#print (prediction)"
   ]
  },
  {
   "cell_type": "code",
   "execution_count": 74,
   "metadata": {},
   "outputs": [
    {
     "name": "stdout",
     "output_type": "stream",
     "text": [
      "1.3726945\n"
     ]
    }
   ],
   "source": [
    "# Evaluating on the test data\n",
    "cross=sess2.run(loss2,{x2:xtest2,ytrue2:ytest2})\n",
    "print(cross)"
   ]
  },
  {
   "cell_type": "code",
   "execution_count": 12,
   "metadata": {},
   "outputs": [
    {
     "name": "stdout",
     "output_type": "stream",
     "text": [
      "0.268\n"
     ]
    }
   ],
   "source": [
    "## Accuracy \n",
    "accuracy_=tf.equal(tf.argmax(p,1),tf.argmax(ytrue2,1))\n",
    "accuracy2=tf.reduce_mean(tf.cast(accuracy_,tf.float32))\n",
    "_,errors=sess2.run([accuracy2,1-accuracy2],{x2:xtest2,ytrue2:ytest2})\n",
    "print(errors)"
   ]
  },
  {
   "cell_type": "markdown",
   "metadata": {},
   "source": [
    "####  The cross_entropy of the model on the test data is 686.34717 and  73.2% of the data points are correctly classified (therefore 26.8% are not)"
   ]
  },
  {
   "cell_type": "code",
   "execution_count": 13,
   "metadata": {},
   "outputs": [
    {
     "name": "stdout",
     "output_type": "stream",
     "text": [
      "[5.8315032e-05 2.0171905e-05 2.3560966e-05] [1.1140475e-03 7.6630691e-05 2.5472092e-04]\n"
     ]
    }
   ],
   "source": [
    "## \n",
    "mu_real=tf.constant([-1,0,3],dtype=tf.float32)\n",
    "sigma2_real=tf.constant([0.5,1,1.5],dtype=tf.float32)\n",
    "mu_q=tf.square(mu_real-mu)\n",
    "sigma2_q=tf.square(sigma2_real-sigma2)\n",
    "with sess2.as_default():\n",
    "    print (mu_q.eval(),sigma2_q.eval())"
   ]
  },
  {
   "cell_type": "markdown",
   "metadata": {},
   "source": [
    "#### Mathematically speaking, the squared error is the sum of (bias)^2 and variance, where bias is defined as E(theta_estimation)-theta_true and variance is var(theta_estimation)"
   ]
  },
  {
   "cell_type": "code",
   "execution_count": 14,
   "metadata": {},
   "outputs": [],
   "source": [
    "results_class={\"mu\":sess2.run(mu),\"sigma2\":sess2.run(sigma2),\"crossent_test\":cross,\"class_error\":errors}"
   ]
  },
  {
   "cell_type": "code",
   "execution_count": 15,
   "metadata": {},
   "outputs": [
    {
     "data": {
      "text/plain": [
       "{'mu': array([-1.0076364 ,  0.00449131,  3.004854  ], dtype=float32),\n",
       " 'sigma2': array([0.53337735, 1.0087539 , 1.51596   ], dtype=float32),\n",
       " 'crossent_test': 686.34717,\n",
       " 'class_error': 0.268}"
      ]
     },
     "execution_count": 15,
     "metadata": {},
     "output_type": "execute_result"
    }
   ],
   "source": [
    "results_class"
   ]
  },
  {
   "cell_type": "code",
   "execution_count": 332,
   "metadata": {},
   "outputs": [],
   "source": [
    "# Prediction Node\n",
    "sess3=tf.Session()\n",
    "x_pre=tf.placeholder(tf.float32,[None,1])\n",
    "sigma_p=sigma2.eval()\n",
    "mu_p=mu.eval()\n",
    "p=1/tf.sqrt(2*m.pi*sigma_p)*tf.exp(-tf.pow((x_pre-mu_p),2)/2/sigma_p) # 2 probabilities\n",
    "#loss2=tf.reduce_mean(tf.reduce_sum(-ytrue2*tf.log(p)))\n",
    "# Add the prediction\n",
    "prediction=tf.argmax(p,1)+1\n"
   ]
  },
  {
   "cell_type": "code",
   "execution_count": 334,
   "metadata": {},
   "outputs": [
    {
     "name": "stdout",
     "output_type": "stream",
     "text": [
      "INFO:tensorflow:Assets added to graph.\n",
      "INFO:tensorflow:No assets to write.\n"
     ]
    },
    {
     "ename": "FailedPreconditionError",
     "evalue": "Attempting to use uninitialized value Variable\n\t [[node save_12/SaveV2 (defined at <ipython-input-334-1e932ab96c54>:6) ]]\n\nErrors may have originated from an input operation.\nInput Source operations connected to node save_12/SaveV2:\n Variable_23/Adagrad (defined at <ipython-input-147-c2ffb1fa20b9>:2)\t\n Variable_50 (defined at <ipython-input-230-83d09afb4248>:4)\t\n Variable_26/Adagrad (defined at <ipython-input-152-c2ffb1fa20b9>:2)\t\n Variable_30/Adagrad_1 (defined at <ipython-input-158-721680361aab>:3)\t\n Variable_33/Adagrad (defined at <ipython-input-160-721680361aab>:3)\t\n Variable_23 (defined at <ipython-input-146-7deac476286d>:6)\t\n Variable_29/Adagrad (defined at <ipython-input-155-376ec7f4109b>:2)\t\n Variable_39/Adagrad_3 (defined at <ipython-input-172-54755f129bfe>:2)\t\n Variable_41/Adagrad_4 (defined at <ipython-input-183-350b09322000>:2)\t\n Variable_47/Adagrad_1 (defined at <ipython-input-220-c0dc77c58359>:2)\t\n Variable_53 (defined at <ipython-input-247-b9641c343a54>:5)\t\n Variable_20 (defined at <ipython-input-144-7deac476286d>:5)\t\n Variable (defined at <ipython-input-5-6e8a60181ba3>:4)\t\n Variable_6 (defined at <ipython-input-41-59c9f4be93b7>:4)\t\n Variable_32/Adagrad_1 (defined at <ipython-input-161-a30ac3a43ead>:1)\t\n Variable_38/Adagrad_2 (defined at <ipython-input-168-46a372f4df03>:2)\t\n Variable_45/Adagrad (defined at <ipython-input-214-afd27db921c6>:2)\t\n Variable_44 (defined at <ipython-input-213-83d09afb4248>:4)\t\n Variable_33 (defined at <ipython-input-159-781dae9a76a2>:6)\t\n Variable_39/Adagrad (defined at <ipython-input-166-fc3c1baa6299>:4)\t\n Variable_54 (defined at <ipython-input-248-b9641c343a54>:4)\t\n Variable_51/Adagrad (defined at <ipython-input-231-c0dc77c58359>:2)\t\n Variable_36/Adagrad (defined at <ipython-input-164-fc3c1baa6299>:4)\t\n Variable_34 (defined at <ipython-input-162-324ebd1e61fa>:7)\t\n Variable_40/Adagrad_5 (defined at <ipython-input-185-77bbf7f6e59c>:2)\t\n Variable_10 (defined at <ipython-input-60-da390cfe0d69>:4)\t\n Variable_51 (defined at <ipython-input-230-83d09afb4248>:5)\t\n Variable_21 (defined at <ipython-input-144-7deac476286d>:6)\t\n Variable_38/Adagrad_4 (defined at <ipython-input-174-39ac17b42bab>:2)\t\n Variable_46/Adagrad (defined at <ipython-input-219-517fe258e26a>:2)\t\n Variable_24/Adagrad (defined at <ipython-input-149-c2ffb1fa20b9>:2)\t\n Variable_45 (defined at <ipython-input-213-83d09afb4248>:5)\t\n Variable_1 (defined at <ipython-input-5-6e8a60181ba3>:5)\t\n Variable_55 (defined at <ipython-input-248-b9641c343a54>:5)\t\n Variable_16 (defined at <ipython-input-135-d45d51d8bc4d>:5)\t\n Variable_18 (defined at <ipython-input-138-11c051f2be04>:5)\t\n Variable_48/Adagrad (defined at <ipython-input-224-c0dc77c58359>:2)\t\n Variable_11 (defined at <ipython-input-60-da390cfe0d69>:5)\t\n Variable_35 (defined at <ipython-input-162-324ebd1e61fa>:8)\t\n Variable_48 (defined at <ipython-input-223-83d09afb4248>:4)\t\n Variable_60 (defined at <ipython-input-253-5cee60ae9be7>:4)\t\n Variable_50/Adagrad_1 (defined at <ipython-input-234-6369196c65e1>:2)\t\n Variable_30 (defined at <ipython-input-156-781dae9a76a2>:5)\t\n Variable_17 (defined at <ipython-input-135-d45d51d8bc4d>:6)\t\n Variable_24 (defined at <ipython-input-148-781dae9a76a2>:5)\t\n Variable_42 (defined at <ipython-input-212-1b1b6408fe7a>:4)\t\n Variable_70 (defined at <ipython-input-261-c43d9343ba66>:4)\t\n Variable_19 (defined at <ipython-input-138-11c051f2be04>:6)\t\n Variable_7 (defined at <ipython-input-41-59c9f4be93b7>:5)\t\n Variable_32 (defined at <ipython-input-159-781dae9a76a2>:5)\t\n Variable_22 (defined at <ipython-input-146-7deac476286d>:5)\t\n Variable_49 (defined at <ipython-input-223-83d09afb4248>:5)\t\n Variable_40/Adagrad (defined at <ipython-input-176-39ac17b42bab>:2)\t\n Variable_20/Adagrad (defined at <ipython-input-145-c2ffb1fa20b9>:2)\t\n Variable_61 (defined at <ipython-input-253-5cee60ae9be7>:5)\t\n Variable_40 (defined at <ipython-input-175-616d9c44d232>:4)\t\n Variable_31 (defined at <ipython-input-156-781dae9a76a2>:6)\t\n Variable_25 (defined at <ipython-input-148-781dae9a76a2>:6)\t\n Variable_40/Adagrad_2 (defined at <ipython-input-180-a8aa76d44ef1>:2)\t\n Variable_18/Adagrad (defined at <ipython-input-141-c2ffb1fa20b9>:2)\t\n Variable_71 (defined at <ipython-input-261-c43d9343ba66>:5)\t\n Variable_43 (defined at <ipython-input-212-1b1b6408fe7a>:5)\t\n Variable_14 (defined at <ipython-input-87-8f3b0863e335>:4)\t\n Variable_38 (defined at <ipython-input-165-f79ae329bbfa>:4)\t\n Variable_44/Adagrad_2 (defined at <ipython-input-216-17b15f819d1d>:2)\t\n Variable_63 (defined at <ipython-input-254-0e085c14cc0f>:5)\t\n Variable_57 (defined at <ipython-input-251-41c7d24dc613>:5)\t\n Variable_15 (defined at <ipython-input-87-8f3b0863e335>:5)\t\n Variable_39 (defined at <ipython-input-165-f79ae329bbfa>:5)\t\n Variable_5 (defined at <ipython-input-36-f10a284a0035>:5)\t\n Variable_12 (defined at <ipython-input-61-8f3b0863e335>:4)\t\n Variable_64 (defined at <ipython-input-255-1b1b6408fe7a>:4)\t\n Variable_40/Adagrad_3 (defined at <ipython-input-182-728dbdf3c051>:2)\t\n Variable_48/Adagrad_1 (defined at <ipython-input-227-c0dc77c58359>:2)\t\n Variable_68 (defined at <ipython-input-259-c43d9343ba66>:4)\t\n Variable_58 (defined at <ipython-input-252-5d4880338ac8>:4)\t\n Variable_41 (defined at <ipython-input-175-616d9c44d232>:5)\t\n Variable_46 (defined at <ipython-input-218-83d09afb4248>:4)\t\n Variable_71/Adagrad (defined at <ipython-input-262-6369196c65e1>:2)\t\n Variable_8 (defined at <ipython-input-46-8f3b0863e335>:4)\t\n Variable_45/Adagrad_3 (defined at <ipython-input-217-517fe258e26a>:2)\t\n Variable_13 (defined at <ipython-input-61-8f3b0863e335>:5)\t\n Variable_40/Adagrad_1 (defined at <ipython-input-178-f1ddd565d75d>:2)\t\n Variable_30/Adagrad (defined at <ipython-input-157-376ec7f4109b>:2)\t\n Variable_36 (defined at <ipython-input-163-f79ae329bbfa>:4)\t\n Variable_65 (defined at <ipython-input-255-1b1b6408fe7a>:5)\t\n Variable_26 (defined at <ipython-input-151-781dae9a76a2>:5)\t\n Variable_69 (defined at <ipython-input-259-c43d9343ba66>:5)\t\n Variable_44/Adagrad_1 (defined at <ipython-input-215-3cb0004aa313>:2)\t\n Variable_47 (defined at <ipython-input-218-83d09afb4248>:5)\t\n Variable_59 (defined at <ipython-input-252-5d4880338ac8>:5)\t\n Variable_38/Adagrad_1 (defined at <ipython-input-167-4b812b128b4b>:3)\t\n Variable_66 (defined at <ipython-input-256-c43d9343ba66>:4)\t\n Variable_9 (defined at <ipython-input-46-8f3b0863e335>:5)\t\n Variable_2 (defined at <ipython-input-19-f10a284a0035>:4)\t\n Variable_28 (defined at <ipython-input-154-781dae9a76a2>:5)\t\n Variable_26/Adagrad_1 (defined at <ipython-input-153-376ec7f4109b>:2)\t\n Variable_37 (defined at <ipython-input-163-f79ae329bbfa>:5)\t\n Variable_27 (defined at <ipython-input-151-781dae9a76a2>:6)\t\n Variable_62 (defined at <ipython-input-254-0e085c14cc0f>:4)\t\n Variable_56 (defined at <ipython-input-251-41c7d24dc613>:4)\t\n Variable_67 (defined at <ipython-input-256-c43d9343ba66>:5)\t\n Variable_29 (defined at <ipython-input-154-781dae9a76a2>:6)\t\n Variable_52 (defined at <ipython-input-247-b9641c343a54>:4)\t\n Variable_3 (defined at <ipython-input-19-f10a284a0035>:5)\t\n Variable_4 (defined at <ipython-input-36-f10a284a0035>:4)\n\nOriginal stack trace for 'save_12/SaveV2':\n  File \"C:\\Users\\lenovo\\AppData\\Local\\Programs\\Python\\Python36\\Lib\\runpy.py\", line 193, in _run_module_as_main\n    \"__main__\", mod_spec)\n  File \"C:\\Users\\lenovo\\AppData\\Local\\Programs\\Python\\Python36\\Lib\\runpy.py\", line 85, in _run_code\n    exec(code, run_globals)\n  File \"C:\\Users\\lenovo\\Envs\\pyenv36\\lib\\site-packages\\ipykernel_launcher.py\", line 16, in <module>\n    app.launch_new_instance()\n  File \"C:\\Users\\lenovo\\Envs\\pyenv36\\lib\\site-packages\\traitlets\\config\\application.py\", line 664, in launch_instance\n    app.start()\n  File \"C:\\Users\\lenovo\\Envs\\pyenv36\\lib\\site-packages\\ipykernel\\kernelapp.py\", line 563, in start\n    self.io_loop.start()\n  File \"C:\\Users\\lenovo\\Envs\\pyenv36\\lib\\site-packages\\tornado\\platform\\asyncio.py\", line 148, in start\n    self.asyncio_loop.run_forever()\n  File \"C:\\Users\\lenovo\\AppData\\Local\\Programs\\Python\\Python36\\Lib\\asyncio\\base_events.py\", line 422, in run_forever\n    self._run_once()\n  File \"C:\\Users\\lenovo\\AppData\\Local\\Programs\\Python\\Python36\\Lib\\asyncio\\base_events.py\", line 1432, in _run_once\n    handle._run()\n  File \"C:\\Users\\lenovo\\AppData\\Local\\Programs\\Python\\Python36\\Lib\\asyncio\\events.py\", line 145, in _run\n    self._callback(*self._args)\n  File \"C:\\Users\\lenovo\\Envs\\pyenv36\\lib\\site-packages\\tornado\\ioloop.py\", line 690, in <lambda>\n    lambda f: self._run_callback(functools.partial(callback, future))\n  File \"C:\\Users\\lenovo\\Envs\\pyenv36\\lib\\site-packages\\tornado\\ioloop.py\", line 743, in _run_callback\n    ret = callback()\n  File \"C:\\Users\\lenovo\\Envs\\pyenv36\\lib\\site-packages\\tornado\\gen.py\", line 787, in inner\n    self.run()\n  File \"C:\\Users\\lenovo\\Envs\\pyenv36\\lib\\site-packages\\tornado\\gen.py\", line 748, in run\n    yielded = self.gen.send(value)\n  File \"C:\\Users\\lenovo\\Envs\\pyenv36\\lib\\site-packages\\ipykernel\\kernelbase.py\", line 361, in process_one\n    yield gen.maybe_future(dispatch(*args))\n  File \"C:\\Users\\lenovo\\Envs\\pyenv36\\lib\\site-packages\\tornado\\gen.py\", line 209, in wrapper\n    yielded = next(result)\n  File \"C:\\Users\\lenovo\\Envs\\pyenv36\\lib\\site-packages\\ipykernel\\kernelbase.py\", line 268, in dispatch_shell\n    yield gen.maybe_future(handler(stream, idents, msg))\n  File \"C:\\Users\\lenovo\\Envs\\pyenv36\\lib\\site-packages\\tornado\\gen.py\", line 209, in wrapper\n    yielded = next(result)\n  File \"C:\\Users\\lenovo\\Envs\\pyenv36\\lib\\site-packages\\ipykernel\\kernelbase.py\", line 541, in execute_request\n    user_expressions, allow_stdin,\n  File \"C:\\Users\\lenovo\\Envs\\pyenv36\\lib\\site-packages\\tornado\\gen.py\", line 209, in wrapper\n    yielded = next(result)\n  File \"C:\\Users\\lenovo\\Envs\\pyenv36\\lib\\site-packages\\ipykernel\\ipkernel.py\", line 300, in do_execute\n    res = shell.run_cell(code, store_history=store_history, silent=silent)\n  File \"C:\\Users\\lenovo\\Envs\\pyenv36\\lib\\site-packages\\ipykernel\\zmqshell.py\", line 536, in run_cell\n    return super(ZMQInteractiveShell, self).run_cell(*args, **kwargs)\n  File \"C:\\Users\\lenovo\\Envs\\pyenv36\\lib\\site-packages\\IPython\\core\\interactiveshell.py\", line 2848, in run_cell\n    raw_cell, store_history, silent, shell_futures)\n  File \"C:\\Users\\lenovo\\Envs\\pyenv36\\lib\\site-packages\\IPython\\core\\interactiveshell.py\", line 2874, in _run_cell\n    return runner(coro)\n  File \"C:\\Users\\lenovo\\Envs\\pyenv36\\lib\\site-packages\\IPython\\core\\async_helpers.py\", line 68, in _pseudo_sync_runner\n    coro.send(None)\n  File \"C:\\Users\\lenovo\\Envs\\pyenv36\\lib\\site-packages\\IPython\\core\\interactiveshell.py\", line 3051, in run_cell_async\n    interactivity=interactivity, compiler=compiler, result=result)\n  File \"C:\\Users\\lenovo\\Envs\\pyenv36\\lib\\site-packages\\IPython\\core\\interactiveshell.py\", line 3242, in run_ast_nodes\n    if (await self.run_code(code, result,  async_=asy)):\n  File \"C:\\Users\\lenovo\\Envs\\pyenv36\\lib\\site-packages\\IPython\\core\\interactiveshell.py\", line 3319, in run_code\n    exec(code_obj, self.user_global_ns, self.user_ns)\n  File \"<ipython-input-334-1e932ab96c54>\", line 6, in <module>\n    outputs={\"prediction\":prediction})\n  File \"C:\\Users\\lenovo\\Envs\\pyenv36\\lib\\site-packages\\tensorflow\\python\\util\\deprecation.py\", line 324, in new_func\n    return func(*args, **kwargs)\n  File \"C:\\Users\\lenovo\\Envs\\pyenv36\\lib\\site-packages\\tensorflow\\python\\saved_model\\simple_save.py\", line 90, in simple_save\n    clear_devices=True)\n  File \"C:\\Users\\lenovo\\Envs\\pyenv36\\lib\\site-packages\\tensorflow\\python\\util\\deprecation.py\", line 507, in new_func\n    return func(*args, **kwargs)\n  File \"C:\\Users\\lenovo\\Envs\\pyenv36\\lib\\site-packages\\tensorflow\\python\\saved_model\\builder_impl.py\", line 585, in add_meta_graph_and_variables\n    saver = self._maybe_create_saver(saver)\n  File \"C:\\Users\\lenovo\\Envs\\pyenv36\\lib\\site-packages\\tensorflow\\python\\saved_model\\builder_impl.py\", line 223, in _maybe_create_saver\n    allow_empty=True)\n  File \"C:\\Users\\lenovo\\Envs\\pyenv36\\lib\\site-packages\\tensorflow\\python\\training\\saver.py\", line 825, in __init__\n    self.build()\n  File \"C:\\Users\\lenovo\\Envs\\pyenv36\\lib\\site-packages\\tensorflow\\python\\training\\saver.py\", line 837, in build\n    self._build(self._filename, build_save=True, build_restore=True)\n  File \"C:\\Users\\lenovo\\Envs\\pyenv36\\lib\\site-packages\\tensorflow\\python\\training\\saver.py\", line 875, in _build\n    build_restore=build_restore)\n  File \"C:\\Users\\lenovo\\Envs\\pyenv36\\lib\\site-packages\\tensorflow\\python\\training\\saver.py\", line 499, in _build_internal\n    save_tensor = self._AddShardedSaveOps(filename_tensor, per_device)\n  File \"C:\\Users\\lenovo\\Envs\\pyenv36\\lib\\site-packages\\tensorflow\\python\\training\\saver.py\", line 291, in _AddShardedSaveOps\n    return self._AddShardedSaveOpsForV2(filename_tensor, per_device)\n  File \"C:\\Users\\lenovo\\Envs\\pyenv36\\lib\\site-packages\\tensorflow\\python\\training\\saver.py\", line 265, in _AddShardedSaveOpsForV2\n    sharded_saves.append(self._AddSaveOps(sharded_filename, saveables))\n  File \"C:\\Users\\lenovo\\Envs\\pyenv36\\lib\\site-packages\\tensorflow\\python\\training\\saver.py\", line 206, in _AddSaveOps\n    save = self.save_op(filename_tensor, saveables)\n  File \"C:\\Users\\lenovo\\Envs\\pyenv36\\lib\\site-packages\\tensorflow\\python\\training\\saver.py\", line 122, in save_op\n    tensors)\n  File \"C:\\Users\\lenovo\\Envs\\pyenv36\\lib\\site-packages\\tensorflow\\python\\ops\\gen_io_ops.py\", line 2059, in save_v2\n    name=name)\n  File \"C:\\Users\\lenovo\\Envs\\pyenv36\\lib\\site-packages\\tensorflow\\python\\framework\\op_def_library.py\", line 788, in _apply_op_helper\n    op_def=op_def)\n  File \"C:\\Users\\lenovo\\Envs\\pyenv36\\lib\\site-packages\\tensorflow\\python\\util\\deprecation.py\", line 507, in new_func\n    return func(*args, **kwargs)\n  File \"C:\\Users\\lenovo\\Envs\\pyenv36\\lib\\site-packages\\tensorflow\\python\\framework\\ops.py\", line 3616, in create_op\n    op_def=op_def)\n  File \"C:\\Users\\lenovo\\Envs\\pyenv36\\lib\\site-packages\\tensorflow\\python\\framework\\ops.py\", line 2005, in __init__\n    self._traceback = tf_stack.extract_stack()\n",
     "output_type": "error",
     "traceback": [
      "\u001b[1;31m---------------------------------------------------------------------------\u001b[0m",
      "\u001b[1;31mFailedPreconditionError\u001b[0m                   Traceback (most recent call last)",
      "\u001b[1;32m~\\Envs\\pyenv36\\lib\\site-packages\\tensorflow\\python\\client\\session.py\u001b[0m in \u001b[0;36m_do_call\u001b[1;34m(self, fn, *args)\u001b[0m\n\u001b[0;32m   1355\u001b[0m     \u001b[1;32mtry\u001b[0m\u001b[1;33m:\u001b[0m\u001b[1;33m\u001b[0m\u001b[0m\n\u001b[1;32m-> 1356\u001b[1;33m       \u001b[1;32mreturn\u001b[0m \u001b[0mfn\u001b[0m\u001b[1;33m(\u001b[0m\u001b[1;33m*\u001b[0m\u001b[0margs\u001b[0m\u001b[1;33m)\u001b[0m\u001b[1;33m\u001b[0m\u001b[0m\n\u001b[0m\u001b[0;32m   1357\u001b[0m     \u001b[1;32mexcept\u001b[0m \u001b[0merrors\u001b[0m\u001b[1;33m.\u001b[0m\u001b[0mOpError\u001b[0m \u001b[1;32mas\u001b[0m \u001b[0me\u001b[0m\u001b[1;33m:\u001b[0m\u001b[1;33m\u001b[0m\u001b[0m\n",
      "\u001b[1;32m~\\Envs\\pyenv36\\lib\\site-packages\\tensorflow\\python\\client\\session.py\u001b[0m in \u001b[0;36m_run_fn\u001b[1;34m(feed_dict, fetch_list, target_list, options, run_metadata)\u001b[0m\n\u001b[0;32m   1340\u001b[0m       return self._call_tf_sessionrun(\n\u001b[1;32m-> 1341\u001b[1;33m           options, feed_dict, fetch_list, target_list, run_metadata)\n\u001b[0m\u001b[0;32m   1342\u001b[0m \u001b[1;33m\u001b[0m\u001b[0m\n",
      "\u001b[1;32m~\\Envs\\pyenv36\\lib\\site-packages\\tensorflow\\python\\client\\session.py\u001b[0m in \u001b[0;36m_call_tf_sessionrun\u001b[1;34m(self, options, feed_dict, fetch_list, target_list, run_metadata)\u001b[0m\n\u001b[0;32m   1428\u001b[0m         \u001b[0mself\u001b[0m\u001b[1;33m.\u001b[0m\u001b[0m_session\u001b[0m\u001b[1;33m,\u001b[0m \u001b[0moptions\u001b[0m\u001b[1;33m,\u001b[0m \u001b[0mfeed_dict\u001b[0m\u001b[1;33m,\u001b[0m \u001b[0mfetch_list\u001b[0m\u001b[1;33m,\u001b[0m \u001b[0mtarget_list\u001b[0m\u001b[1;33m,\u001b[0m\u001b[1;33m\u001b[0m\u001b[0m\n\u001b[1;32m-> 1429\u001b[1;33m         run_metadata)\n\u001b[0m\u001b[0;32m   1430\u001b[0m \u001b[1;33m\u001b[0m\u001b[0m\n",
      "\u001b[1;31mFailedPreconditionError\u001b[0m: Attempting to use uninitialized value Variable\n\t [[{{node save_12/SaveV2}}]]",
      "\nDuring handling of the above exception, another exception occurred:\n",
      "\u001b[1;31mFailedPreconditionError\u001b[0m                   Traceback (most recent call last)",
      "\u001b[1;32m<ipython-input-334-1e932ab96c54>\u001b[0m in \u001b[0;36m<module>\u001b[1;34m\u001b[0m\n\u001b[0;32m      4\u001b[0m \u001b[1;31m# https://github.com/qifanoctave/hw10_507\u001b[0m\u001b[1;33m\u001b[0m\u001b[1;33m\u001b[0m\u001b[0m\n\u001b[0;32m      5\u001b[0m tf.saved_model.simple_save(sess3,\"normal_trained\",inputs={\"x_pre\":x_pre},\n\u001b[1;32m----> 6\u001b[1;33m                            outputs={\"prediction\":prediction})\n\u001b[0m",
      "\u001b[1;32m~\\Envs\\pyenv36\\lib\\site-packages\\tensorflow\\python\\util\\deprecation.py\u001b[0m in \u001b[0;36mnew_func\u001b[1;34m(*args, **kwargs)\u001b[0m\n\u001b[0;32m    322\u001b[0m               \u001b[1;34m'in a future version'\u001b[0m \u001b[1;32mif\u001b[0m \u001b[0mdate\u001b[0m \u001b[1;32mis\u001b[0m \u001b[1;32mNone\u001b[0m \u001b[1;32melse\u001b[0m \u001b[1;33m(\u001b[0m\u001b[1;34m'after %s'\u001b[0m \u001b[1;33m%\u001b[0m \u001b[0mdate\u001b[0m\u001b[1;33m)\u001b[0m\u001b[1;33m,\u001b[0m\u001b[1;33m\u001b[0m\u001b[0m\n\u001b[0;32m    323\u001b[0m               instructions)\n\u001b[1;32m--> 324\u001b[1;33m       \u001b[1;32mreturn\u001b[0m \u001b[0mfunc\u001b[0m\u001b[1;33m(\u001b[0m\u001b[1;33m*\u001b[0m\u001b[0margs\u001b[0m\u001b[1;33m,\u001b[0m \u001b[1;33m**\u001b[0m\u001b[0mkwargs\u001b[0m\u001b[1;33m)\u001b[0m\u001b[1;33m\u001b[0m\u001b[0m\n\u001b[0m\u001b[0;32m    325\u001b[0m     return tf_decorator.make_decorator(\n\u001b[0;32m    326\u001b[0m         \u001b[0mfunc\u001b[0m\u001b[1;33m,\u001b[0m \u001b[0mnew_func\u001b[0m\u001b[1;33m,\u001b[0m \u001b[1;34m'deprecated'\u001b[0m\u001b[1;33m,\u001b[0m\u001b[1;33m\u001b[0m\u001b[0m\n",
      "\u001b[1;32m~\\Envs\\pyenv36\\lib\\site-packages\\tensorflow\\python\\saved_model\\simple_save.py\u001b[0m in \u001b[0;36msimple_save\u001b[1;34m(session, export_dir, inputs, outputs, legacy_init_op)\u001b[0m\n\u001b[0;32m     88\u001b[0m       \u001b[0massets_collection\u001b[0m\u001b[1;33m=\u001b[0m\u001b[0mops\u001b[0m\u001b[1;33m.\u001b[0m\u001b[0mget_collection\u001b[0m\u001b[1;33m(\u001b[0m\u001b[0mops\u001b[0m\u001b[1;33m.\u001b[0m\u001b[0mGraphKeys\u001b[0m\u001b[1;33m.\u001b[0m\u001b[0mASSET_FILEPATHS\u001b[0m\u001b[1;33m)\u001b[0m\u001b[1;33m,\u001b[0m\u001b[1;33m\u001b[0m\u001b[0m\n\u001b[0;32m     89\u001b[0m       \u001b[0mmain_op\u001b[0m\u001b[1;33m=\u001b[0m\u001b[0mlegacy_init_op\u001b[0m\u001b[1;33m,\u001b[0m\u001b[1;33m\u001b[0m\u001b[0m\n\u001b[1;32m---> 90\u001b[1;33m       clear_devices=True)\n\u001b[0m\u001b[0;32m     91\u001b[0m   \u001b[0mb\u001b[0m\u001b[1;33m.\u001b[0m\u001b[0msave\u001b[0m\u001b[1;33m(\u001b[0m\u001b[1;33m)\u001b[0m\u001b[1;33m\u001b[0m\u001b[0m\n",
      "\u001b[1;32m~\\Envs\\pyenv36\\lib\\site-packages\\tensorflow\\python\\util\\deprecation.py\u001b[0m in \u001b[0;36mnew_func\u001b[1;34m(*args, **kwargs)\u001b[0m\n\u001b[0;32m    505\u001b[0m                 \u001b[1;34m'in a future version'\u001b[0m \u001b[1;32mif\u001b[0m \u001b[0mdate\u001b[0m \u001b[1;32mis\u001b[0m \u001b[1;32mNone\u001b[0m \u001b[1;32melse\u001b[0m \u001b[1;33m(\u001b[0m\u001b[1;34m'after %s'\u001b[0m \u001b[1;33m%\u001b[0m \u001b[0mdate\u001b[0m\u001b[1;33m)\u001b[0m\u001b[1;33m,\u001b[0m\u001b[1;33m\u001b[0m\u001b[0m\n\u001b[0;32m    506\u001b[0m                 instructions)\n\u001b[1;32m--> 507\u001b[1;33m       \u001b[1;32mreturn\u001b[0m \u001b[0mfunc\u001b[0m\u001b[1;33m(\u001b[0m\u001b[1;33m*\u001b[0m\u001b[0margs\u001b[0m\u001b[1;33m,\u001b[0m \u001b[1;33m**\u001b[0m\u001b[0mkwargs\u001b[0m\u001b[1;33m)\u001b[0m\u001b[1;33m\u001b[0m\u001b[0m\n\u001b[0m\u001b[0;32m    508\u001b[0m \u001b[1;33m\u001b[0m\u001b[0m\n\u001b[0;32m    509\u001b[0m     doc = _add_deprecated_arg_notice_to_docstring(\n",
      "\u001b[1;32m~\\Envs\\pyenv36\\lib\\site-packages\\tensorflow\\python\\saved_model\\builder_impl.py\u001b[0m in \u001b[0;36madd_meta_graph_and_variables\u001b[1;34m(self, sess, tags, signature_def_map, assets_collection, legacy_init_op, clear_devices, main_op, strip_default_attrs, saver)\u001b[0m\n\u001b[0;32m    589\u001b[0m     \u001b[1;31m# SavedModel can be copied or moved, this avoids the checkpoint state to\u001b[0m\u001b[1;33m\u001b[0m\u001b[1;33m\u001b[0m\u001b[0m\n\u001b[0;32m    590\u001b[0m     \u001b[1;31m# become outdated.\u001b[0m\u001b[1;33m\u001b[0m\u001b[1;33m\u001b[0m\u001b[0m\n\u001b[1;32m--> 591\u001b[1;33m     \u001b[0msaver\u001b[0m\u001b[1;33m.\u001b[0m\u001b[0msave\u001b[0m\u001b[1;33m(\u001b[0m\u001b[0msess\u001b[0m\u001b[1;33m,\u001b[0m \u001b[0mvariables_path\u001b[0m\u001b[1;33m,\u001b[0m \u001b[0mwrite_meta_graph\u001b[0m\u001b[1;33m=\u001b[0m\u001b[1;32mFalse\u001b[0m\u001b[1;33m,\u001b[0m \u001b[0mwrite_state\u001b[0m\u001b[1;33m=\u001b[0m\u001b[1;32mFalse\u001b[0m\u001b[1;33m)\u001b[0m\u001b[1;33m\u001b[0m\u001b[0m\n\u001b[0m\u001b[0;32m    592\u001b[0m \u001b[1;33m\u001b[0m\u001b[0m\n\u001b[0;32m    593\u001b[0m     \u001b[1;31m# Export the meta graph def.\u001b[0m\u001b[1;33m\u001b[0m\u001b[1;33m\u001b[0m\u001b[0m\n",
      "\u001b[1;32m~\\Envs\\pyenv36\\lib\\site-packages\\tensorflow\\python\\training\\saver.py\u001b[0m in \u001b[0;36msave\u001b[1;34m(self, sess, save_path, global_step, latest_filename, meta_graph_suffix, write_meta_graph, write_state, strip_default_attrs, save_debug_info)\u001b[0m\n\u001b[0;32m   1188\u001b[0m               \"Parent directory of {} doesn't exist, can't save.\".format(\n\u001b[0;32m   1189\u001b[0m                   save_path))\n\u001b[1;32m-> 1190\u001b[1;33m         \u001b[1;32mraise\u001b[0m \u001b[0mexc\u001b[0m\u001b[1;33m\u001b[0m\u001b[0m\n\u001b[0m\u001b[0;32m   1191\u001b[0m \u001b[1;33m\u001b[0m\u001b[0m\n\u001b[0;32m   1192\u001b[0m     \u001b[1;32mif\u001b[0m \u001b[0mwrite_meta_graph\u001b[0m\u001b[1;33m:\u001b[0m\u001b[1;33m\u001b[0m\u001b[0m\n",
      "\u001b[1;32m~\\Envs\\pyenv36\\lib\\site-packages\\tensorflow\\python\\training\\saver.py\u001b[0m in \u001b[0;36msave\u001b[1;34m(self, sess, save_path, global_step, latest_filename, meta_graph_suffix, write_meta_graph, write_state, strip_default_attrs, save_debug_info)\u001b[0m\n\u001b[0;32m   1171\u001b[0m           model_checkpoint_path = sess.run(\n\u001b[0;32m   1172\u001b[0m               \u001b[0mself\u001b[0m\u001b[1;33m.\u001b[0m\u001b[0msaver_def\u001b[0m\u001b[1;33m.\u001b[0m\u001b[0msave_tensor_name\u001b[0m\u001b[1;33m,\u001b[0m\u001b[1;33m\u001b[0m\u001b[0m\n\u001b[1;32m-> 1173\u001b[1;33m               {self.saver_def.filename_tensor_name: checkpoint_file})\n\u001b[0m\u001b[0;32m   1174\u001b[0m \u001b[1;33m\u001b[0m\u001b[0m\n\u001b[0;32m   1175\u001b[0m         \u001b[0mmodel_checkpoint_path\u001b[0m \u001b[1;33m=\u001b[0m \u001b[0mcompat\u001b[0m\u001b[1;33m.\u001b[0m\u001b[0mas_str\u001b[0m\u001b[1;33m(\u001b[0m\u001b[0mmodel_checkpoint_path\u001b[0m\u001b[1;33m)\u001b[0m\u001b[1;33m\u001b[0m\u001b[0m\n",
      "\u001b[1;32m~\\Envs\\pyenv36\\lib\\site-packages\\tensorflow\\python\\client\\session.py\u001b[0m in \u001b[0;36mrun\u001b[1;34m(self, fetches, feed_dict, options, run_metadata)\u001b[0m\n\u001b[0;32m    948\u001b[0m     \u001b[1;32mtry\u001b[0m\u001b[1;33m:\u001b[0m\u001b[1;33m\u001b[0m\u001b[0m\n\u001b[0;32m    949\u001b[0m       result = self._run(None, fetches, feed_dict, options_ptr,\n\u001b[1;32m--> 950\u001b[1;33m                          run_metadata_ptr)\n\u001b[0m\u001b[0;32m    951\u001b[0m       \u001b[1;32mif\u001b[0m \u001b[0mrun_metadata\u001b[0m\u001b[1;33m:\u001b[0m\u001b[1;33m\u001b[0m\u001b[0m\n\u001b[0;32m    952\u001b[0m         \u001b[0mproto_data\u001b[0m \u001b[1;33m=\u001b[0m \u001b[0mtf_session\u001b[0m\u001b[1;33m.\u001b[0m\u001b[0mTF_GetBuffer\u001b[0m\u001b[1;33m(\u001b[0m\u001b[0mrun_metadata_ptr\u001b[0m\u001b[1;33m)\u001b[0m\u001b[1;33m\u001b[0m\u001b[0m\n",
      "\u001b[1;32m~\\Envs\\pyenv36\\lib\\site-packages\\tensorflow\\python\\client\\session.py\u001b[0m in \u001b[0;36m_run\u001b[1;34m(self, handle, fetches, feed_dict, options, run_metadata)\u001b[0m\n\u001b[0;32m   1171\u001b[0m     \u001b[1;32mif\u001b[0m \u001b[0mfinal_fetches\u001b[0m \u001b[1;32mor\u001b[0m \u001b[0mfinal_targets\u001b[0m \u001b[1;32mor\u001b[0m \u001b[1;33m(\u001b[0m\u001b[0mhandle\u001b[0m \u001b[1;32mand\u001b[0m \u001b[0mfeed_dict_tensor\u001b[0m\u001b[1;33m)\u001b[0m\u001b[1;33m:\u001b[0m\u001b[1;33m\u001b[0m\u001b[0m\n\u001b[0;32m   1172\u001b[0m       results = self._do_run(handle, final_targets, final_fetches,\n\u001b[1;32m-> 1173\u001b[1;33m                              feed_dict_tensor, options, run_metadata)\n\u001b[0m\u001b[0;32m   1174\u001b[0m     \u001b[1;32melse\u001b[0m\u001b[1;33m:\u001b[0m\u001b[1;33m\u001b[0m\u001b[0m\n\u001b[0;32m   1175\u001b[0m       \u001b[0mresults\u001b[0m \u001b[1;33m=\u001b[0m \u001b[1;33m[\u001b[0m\u001b[1;33m]\u001b[0m\u001b[1;33m\u001b[0m\u001b[0m\n",
      "\u001b[1;32m~\\Envs\\pyenv36\\lib\\site-packages\\tensorflow\\python\\client\\session.py\u001b[0m in \u001b[0;36m_do_run\u001b[1;34m(self, handle, target_list, fetch_list, feed_dict, options, run_metadata)\u001b[0m\n\u001b[0;32m   1348\u001b[0m     \u001b[1;32mif\u001b[0m \u001b[0mhandle\u001b[0m \u001b[1;32mis\u001b[0m \u001b[1;32mNone\u001b[0m\u001b[1;33m:\u001b[0m\u001b[1;33m\u001b[0m\u001b[0m\n\u001b[0;32m   1349\u001b[0m       return self._do_call(_run_fn, feeds, fetches, targets, options,\n\u001b[1;32m-> 1350\u001b[1;33m                            run_metadata)\n\u001b[0m\u001b[0;32m   1351\u001b[0m     \u001b[1;32melse\u001b[0m\u001b[1;33m:\u001b[0m\u001b[1;33m\u001b[0m\u001b[0m\n\u001b[0;32m   1352\u001b[0m       \u001b[1;32mreturn\u001b[0m \u001b[0mself\u001b[0m\u001b[1;33m.\u001b[0m\u001b[0m_do_call\u001b[0m\u001b[1;33m(\u001b[0m\u001b[0m_prun_fn\u001b[0m\u001b[1;33m,\u001b[0m \u001b[0mhandle\u001b[0m\u001b[1;33m,\u001b[0m \u001b[0mfeeds\u001b[0m\u001b[1;33m,\u001b[0m \u001b[0mfetches\u001b[0m\u001b[1;33m)\u001b[0m\u001b[1;33m\u001b[0m\u001b[0m\n",
      "\u001b[1;32m~\\Envs\\pyenv36\\lib\\site-packages\\tensorflow\\python\\client\\session.py\u001b[0m in \u001b[0;36m_do_call\u001b[1;34m(self, fn, *args)\u001b[0m\n\u001b[0;32m   1368\u001b[0m           \u001b[1;32mpass\u001b[0m\u001b[1;33m\u001b[0m\u001b[0m\n\u001b[0;32m   1369\u001b[0m       \u001b[0mmessage\u001b[0m \u001b[1;33m=\u001b[0m \u001b[0merror_interpolation\u001b[0m\u001b[1;33m.\u001b[0m\u001b[0minterpolate\u001b[0m\u001b[1;33m(\u001b[0m\u001b[0mmessage\u001b[0m\u001b[1;33m,\u001b[0m \u001b[0mself\u001b[0m\u001b[1;33m.\u001b[0m\u001b[0m_graph\u001b[0m\u001b[1;33m)\u001b[0m\u001b[1;33m\u001b[0m\u001b[0m\n\u001b[1;32m-> 1370\u001b[1;33m       \u001b[1;32mraise\u001b[0m \u001b[0mtype\u001b[0m\u001b[1;33m(\u001b[0m\u001b[0me\u001b[0m\u001b[1;33m)\u001b[0m\u001b[1;33m(\u001b[0m\u001b[0mnode_def\u001b[0m\u001b[1;33m,\u001b[0m \u001b[0mop\u001b[0m\u001b[1;33m,\u001b[0m \u001b[0mmessage\u001b[0m\u001b[1;33m)\u001b[0m\u001b[1;33m\u001b[0m\u001b[0m\n\u001b[0m\u001b[0;32m   1371\u001b[0m \u001b[1;33m\u001b[0m\u001b[0m\n\u001b[0;32m   1372\u001b[0m   \u001b[1;32mdef\u001b[0m \u001b[0m_extend_graph\u001b[0m\u001b[1;33m(\u001b[0m\u001b[0mself\u001b[0m\u001b[1;33m)\u001b[0m\u001b[1;33m:\u001b[0m\u001b[1;33m\u001b[0m\u001b[0m\n",
      "\u001b[1;31mFailedPreconditionError\u001b[0m: Attempting to use uninitialized value Variable\n\t [[node save_12/SaveV2 (defined at <ipython-input-334-1e932ab96c54>:6) ]]\n\nErrors may have originated from an input operation.\nInput Source operations connected to node save_12/SaveV2:\n Variable_23/Adagrad (defined at <ipython-input-147-c2ffb1fa20b9>:2)\t\n Variable_50 (defined at <ipython-input-230-83d09afb4248>:4)\t\n Variable_26/Adagrad (defined at <ipython-input-152-c2ffb1fa20b9>:2)\t\n Variable_30/Adagrad_1 (defined at <ipython-input-158-721680361aab>:3)\t\n Variable_33/Adagrad (defined at <ipython-input-160-721680361aab>:3)\t\n Variable_23 (defined at <ipython-input-146-7deac476286d>:6)\t\n Variable_29/Adagrad (defined at <ipython-input-155-376ec7f4109b>:2)\t\n Variable_39/Adagrad_3 (defined at <ipython-input-172-54755f129bfe>:2)\t\n Variable_41/Adagrad_4 (defined at <ipython-input-183-350b09322000>:2)\t\n Variable_47/Adagrad_1 (defined at <ipython-input-220-c0dc77c58359>:2)\t\n Variable_53 (defined at <ipython-input-247-b9641c343a54>:5)\t\n Variable_20 (defined at <ipython-input-144-7deac476286d>:5)\t\n Variable (defined at <ipython-input-5-6e8a60181ba3>:4)\t\n Variable_6 (defined at <ipython-input-41-59c9f4be93b7>:4)\t\n Variable_32/Adagrad_1 (defined at <ipython-input-161-a30ac3a43ead>:1)\t\n Variable_38/Adagrad_2 (defined at <ipython-input-168-46a372f4df03>:2)\t\n Variable_45/Adagrad (defined at <ipython-input-214-afd27db921c6>:2)\t\n Variable_44 (defined at <ipython-input-213-83d09afb4248>:4)\t\n Variable_33 (defined at <ipython-input-159-781dae9a76a2>:6)\t\n Variable_39/Adagrad (defined at <ipython-input-166-fc3c1baa6299>:4)\t\n Variable_54 (defined at <ipython-input-248-b9641c343a54>:4)\t\n Variable_51/Adagrad (defined at <ipython-input-231-c0dc77c58359>:2)\t\n Variable_36/Adagrad (defined at <ipython-input-164-fc3c1baa6299>:4)\t\n Variable_34 (defined at <ipython-input-162-324ebd1e61fa>:7)\t\n Variable_40/Adagrad_5 (defined at <ipython-input-185-77bbf7f6e59c>:2)\t\n Variable_10 (defined at <ipython-input-60-da390cfe0d69>:4)\t\n Variable_51 (defined at <ipython-input-230-83d09afb4248>:5)\t\n Variable_21 (defined at <ipython-input-144-7deac476286d>:6)\t\n Variable_38/Adagrad_4 (defined at <ipython-input-174-39ac17b42bab>:2)\t\n Variable_46/Adagrad (defined at <ipython-input-219-517fe258e26a>:2)\t\n Variable_24/Adagrad (defined at <ipython-input-149-c2ffb1fa20b9>:2)\t\n Variable_45 (defined at <ipython-input-213-83d09afb4248>:5)\t\n Variable_1 (defined at <ipython-input-5-6e8a60181ba3>:5)\t\n Variable_55 (defined at <ipython-input-248-b9641c343a54>:5)\t\n Variable_16 (defined at <ipython-input-135-d45d51d8bc4d>:5)\t\n Variable_18 (defined at <ipython-input-138-11c051f2be04>:5)\t\n Variable_48/Adagrad (defined at <ipython-input-224-c0dc77c58359>:2)\t\n Variable_11 (defined at <ipython-input-60-da390cfe0d69>:5)\t\n Variable_35 (defined at <ipython-input-162-324ebd1e61fa>:8)\t\n Variable_48 (defined at <ipython-input-223-83d09afb4248>:4)\t\n Variable_60 (defined at <ipython-input-253-5cee60ae9be7>:4)\t\n Variable_50/Adagrad_1 (defined at <ipython-input-234-6369196c65e1>:2)\t\n Variable_30 (defined at <ipython-input-156-781dae9a76a2>:5)\t\n Variable_17 (defined at <ipython-input-135-d45d51d8bc4d>:6)\t\n Variable_24 (defined at <ipython-input-148-781dae9a76a2>:5)\t\n Variable_42 (defined at <ipython-input-212-1b1b6408fe7a>:4)\t\n Variable_70 (defined at <ipython-input-261-c43d9343ba66>:4)\t\n Variable_19 (defined at <ipython-input-138-11c051f2be04>:6)\t\n Variable_7 (defined at <ipython-input-41-59c9f4be93b7>:5)\t\n Variable_32 (defined at <ipython-input-159-781dae9a76a2>:5)\t\n Variable_22 (defined at <ipython-input-146-7deac476286d>:5)\t\n Variable_49 (defined at <ipython-input-223-83d09afb4248>:5)\t\n Variable_40/Adagrad (defined at <ipython-input-176-39ac17b42bab>:2)\t\n Variable_20/Adagrad (defined at <ipython-input-145-c2ffb1fa20b9>:2)\t\n Variable_61 (defined at <ipython-input-253-5cee60ae9be7>:5)\t\n Variable_40 (defined at <ipython-input-175-616d9c44d232>:4)\t\n Variable_31 (defined at <ipython-input-156-781dae9a76a2>:6)\t\n Variable_25 (defined at <ipython-input-148-781dae9a76a2>:6)\t\n Variable_40/Adagrad_2 (defined at <ipython-input-180-a8aa76d44ef1>:2)\t\n Variable_18/Adagrad (defined at <ipython-input-141-c2ffb1fa20b9>:2)\t\n Variable_71 (defined at <ipython-input-261-c43d9343ba66>:5)\t\n Variable_43 (defined at <ipython-input-212-1b1b6408fe7a>:5)\t\n Variable_14 (defined at <ipython-input-87-8f3b0863e335>:4)\t\n Variable_38 (defined at <ipython-input-165-f79ae329bbfa>:4)\t\n Variable_44/Adagrad_2 (defined at <ipython-input-216-17b15f819d1d>:2)\t\n Variable_63 (defined at <ipython-input-254-0e085c14cc0f>:5)\t\n Variable_57 (defined at <ipython-input-251-41c7d24dc613>:5)\t\n Variable_15 (defined at <ipython-input-87-8f3b0863e335>:5)\t\n Variable_39 (defined at <ipython-input-165-f79ae329bbfa>:5)\t\n Variable_5 (defined at <ipython-input-36-f10a284a0035>:5)\t\n Variable_12 (defined at <ipython-input-61-8f3b0863e335>:4)\t\n Variable_64 (defined at <ipython-input-255-1b1b6408fe7a>:4)\t\n Variable_40/Adagrad_3 (defined at <ipython-input-182-728dbdf3c051>:2)\t\n Variable_48/Adagrad_1 (defined at <ipython-input-227-c0dc77c58359>:2)\t\n Variable_68 (defined at <ipython-input-259-c43d9343ba66>:4)\t\n Variable_58 (defined at <ipython-input-252-5d4880338ac8>:4)\t\n Variable_41 (defined at <ipython-input-175-616d9c44d232>:5)\t\n Variable_46 (defined at <ipython-input-218-83d09afb4248>:4)\t\n Variable_71/Adagrad (defined at <ipython-input-262-6369196c65e1>:2)\t\n Variable_8 (defined at <ipython-input-46-8f3b0863e335>:4)\t\n Variable_45/Adagrad_3 (defined at <ipython-input-217-517fe258e26a>:2)\t\n Variable_13 (defined at <ipython-input-61-8f3b0863e335>:5)\t\n Variable_40/Adagrad_1 (defined at <ipython-input-178-f1ddd565d75d>:2)\t\n Variable_30/Adagrad (defined at <ipython-input-157-376ec7f4109b>:2)\t\n Variable_36 (defined at <ipython-input-163-f79ae329bbfa>:4)\t\n Variable_65 (defined at <ipython-input-255-1b1b6408fe7a>:5)\t\n Variable_26 (defined at <ipython-input-151-781dae9a76a2>:5)\t\n Variable_69 (defined at <ipython-input-259-c43d9343ba66>:5)\t\n Variable_44/Adagrad_1 (defined at <ipython-input-215-3cb0004aa313>:2)\t\n Variable_47 (defined at <ipython-input-218-83d09afb4248>:5)\t\n Variable_59 (defined at <ipython-input-252-5d4880338ac8>:5)\t\n Variable_38/Adagrad_1 (defined at <ipython-input-167-4b812b128b4b>:3)\t\n Variable_66 (defined at <ipython-input-256-c43d9343ba66>:4)\t\n Variable_9 (defined at <ipython-input-46-8f3b0863e335>:5)\t\n Variable_2 (defined at <ipython-input-19-f10a284a0035>:4)\t\n Variable_28 (defined at <ipython-input-154-781dae9a76a2>:5)\t\n Variable_26/Adagrad_1 (defined at <ipython-input-153-376ec7f4109b>:2)\t\n Variable_37 (defined at <ipython-input-163-f79ae329bbfa>:5)\t\n Variable_27 (defined at <ipython-input-151-781dae9a76a2>:6)\t\n Variable_62 (defined at <ipython-input-254-0e085c14cc0f>:4)\t\n Variable_56 (defined at <ipython-input-251-41c7d24dc613>:4)\t\n Variable_67 (defined at <ipython-input-256-c43d9343ba66>:5)\t\n Variable_29 (defined at <ipython-input-154-781dae9a76a2>:6)\t\n Variable_52 (defined at <ipython-input-247-b9641c343a54>:4)\t\n Variable_3 (defined at <ipython-input-19-f10a284a0035>:5)\t\n Variable_4 (defined at <ipython-input-36-f10a284a0035>:4)\n\nOriginal stack trace for 'save_12/SaveV2':\n  File \"C:\\Users\\lenovo\\AppData\\Local\\Programs\\Python\\Python36\\Lib\\runpy.py\", line 193, in _run_module_as_main\n    \"__main__\", mod_spec)\n  File \"C:\\Users\\lenovo\\AppData\\Local\\Programs\\Python\\Python36\\Lib\\runpy.py\", line 85, in _run_code\n    exec(code, run_globals)\n  File \"C:\\Users\\lenovo\\Envs\\pyenv36\\lib\\site-packages\\ipykernel_launcher.py\", line 16, in <module>\n    app.launch_new_instance()\n  File \"C:\\Users\\lenovo\\Envs\\pyenv36\\lib\\site-packages\\traitlets\\config\\application.py\", line 664, in launch_instance\n    app.start()\n  File \"C:\\Users\\lenovo\\Envs\\pyenv36\\lib\\site-packages\\ipykernel\\kernelapp.py\", line 563, in start\n    self.io_loop.start()\n  File \"C:\\Users\\lenovo\\Envs\\pyenv36\\lib\\site-packages\\tornado\\platform\\asyncio.py\", line 148, in start\n    self.asyncio_loop.run_forever()\n  File \"C:\\Users\\lenovo\\AppData\\Local\\Programs\\Python\\Python36\\Lib\\asyncio\\base_events.py\", line 422, in run_forever\n    self._run_once()\n  File \"C:\\Users\\lenovo\\AppData\\Local\\Programs\\Python\\Python36\\Lib\\asyncio\\base_events.py\", line 1432, in _run_once\n    handle._run()\n  File \"C:\\Users\\lenovo\\AppData\\Local\\Programs\\Python\\Python36\\Lib\\asyncio\\events.py\", line 145, in _run\n    self._callback(*self._args)\n  File \"C:\\Users\\lenovo\\Envs\\pyenv36\\lib\\site-packages\\tornado\\ioloop.py\", line 690, in <lambda>\n    lambda f: self._run_callback(functools.partial(callback, future))\n  File \"C:\\Users\\lenovo\\Envs\\pyenv36\\lib\\site-packages\\tornado\\ioloop.py\", line 743, in _run_callback\n    ret = callback()\n  File \"C:\\Users\\lenovo\\Envs\\pyenv36\\lib\\site-packages\\tornado\\gen.py\", line 787, in inner\n    self.run()\n  File \"C:\\Users\\lenovo\\Envs\\pyenv36\\lib\\site-packages\\tornado\\gen.py\", line 748, in run\n    yielded = self.gen.send(value)\n  File \"C:\\Users\\lenovo\\Envs\\pyenv36\\lib\\site-packages\\ipykernel\\kernelbase.py\", line 361, in process_one\n    yield gen.maybe_future(dispatch(*args))\n  File \"C:\\Users\\lenovo\\Envs\\pyenv36\\lib\\site-packages\\tornado\\gen.py\", line 209, in wrapper\n    yielded = next(result)\n  File \"C:\\Users\\lenovo\\Envs\\pyenv36\\lib\\site-packages\\ipykernel\\kernelbase.py\", line 268, in dispatch_shell\n    yield gen.maybe_future(handler(stream, idents, msg))\n  File \"C:\\Users\\lenovo\\Envs\\pyenv36\\lib\\site-packages\\tornado\\gen.py\", line 209, in wrapper\n    yielded = next(result)\n  File \"C:\\Users\\lenovo\\Envs\\pyenv36\\lib\\site-packages\\ipykernel\\kernelbase.py\", line 541, in execute_request\n    user_expressions, allow_stdin,\n  File \"C:\\Users\\lenovo\\Envs\\pyenv36\\lib\\site-packages\\tornado\\gen.py\", line 209, in wrapper\n    yielded = next(result)\n  File \"C:\\Users\\lenovo\\Envs\\pyenv36\\lib\\site-packages\\ipykernel\\ipkernel.py\", line 300, in do_execute\n    res = shell.run_cell(code, store_history=store_history, silent=silent)\n  File \"C:\\Users\\lenovo\\Envs\\pyenv36\\lib\\site-packages\\ipykernel\\zmqshell.py\", line 536, in run_cell\n    return super(ZMQInteractiveShell, self).run_cell(*args, **kwargs)\n  File \"C:\\Users\\lenovo\\Envs\\pyenv36\\lib\\site-packages\\IPython\\core\\interactiveshell.py\", line 2848, in run_cell\n    raw_cell, store_history, silent, shell_futures)\n  File \"C:\\Users\\lenovo\\Envs\\pyenv36\\lib\\site-packages\\IPython\\core\\interactiveshell.py\", line 2874, in _run_cell\n    return runner(coro)\n  File \"C:\\Users\\lenovo\\Envs\\pyenv36\\lib\\site-packages\\IPython\\core\\async_helpers.py\", line 68, in _pseudo_sync_runner\n    coro.send(None)\n  File \"C:\\Users\\lenovo\\Envs\\pyenv36\\lib\\site-packages\\IPython\\core\\interactiveshell.py\", line 3051, in run_cell_async\n    interactivity=interactivity, compiler=compiler, result=result)\n  File \"C:\\Users\\lenovo\\Envs\\pyenv36\\lib\\site-packages\\IPython\\core\\interactiveshell.py\", line 3242, in run_ast_nodes\n    if (await self.run_code(code, result,  async_=asy)):\n  File \"C:\\Users\\lenovo\\Envs\\pyenv36\\lib\\site-packages\\IPython\\core\\interactiveshell.py\", line 3319, in run_code\n    exec(code_obj, self.user_global_ns, self.user_ns)\n  File \"<ipython-input-334-1e932ab96c54>\", line 6, in <module>\n    outputs={\"prediction\":prediction})\n  File \"C:\\Users\\lenovo\\Envs\\pyenv36\\lib\\site-packages\\tensorflow\\python\\util\\deprecation.py\", line 324, in new_func\n    return func(*args, **kwargs)\n  File \"C:\\Users\\lenovo\\Envs\\pyenv36\\lib\\site-packages\\tensorflow\\python\\saved_model\\simple_save.py\", line 90, in simple_save\n    clear_devices=True)\n  File \"C:\\Users\\lenovo\\Envs\\pyenv36\\lib\\site-packages\\tensorflow\\python\\util\\deprecation.py\", line 507, in new_func\n    return func(*args, **kwargs)\n  File \"C:\\Users\\lenovo\\Envs\\pyenv36\\lib\\site-packages\\tensorflow\\python\\saved_model\\builder_impl.py\", line 585, in add_meta_graph_and_variables\n    saver = self._maybe_create_saver(saver)\n  File \"C:\\Users\\lenovo\\Envs\\pyenv36\\lib\\site-packages\\tensorflow\\python\\saved_model\\builder_impl.py\", line 223, in _maybe_create_saver\n    allow_empty=True)\n  File \"C:\\Users\\lenovo\\Envs\\pyenv36\\lib\\site-packages\\tensorflow\\python\\training\\saver.py\", line 825, in __init__\n    self.build()\n  File \"C:\\Users\\lenovo\\Envs\\pyenv36\\lib\\site-packages\\tensorflow\\python\\training\\saver.py\", line 837, in build\n    self._build(self._filename, build_save=True, build_restore=True)\n  File \"C:\\Users\\lenovo\\Envs\\pyenv36\\lib\\site-packages\\tensorflow\\python\\training\\saver.py\", line 875, in _build\n    build_restore=build_restore)\n  File \"C:\\Users\\lenovo\\Envs\\pyenv36\\lib\\site-packages\\tensorflow\\python\\training\\saver.py\", line 499, in _build_internal\n    save_tensor = self._AddShardedSaveOps(filename_tensor, per_device)\n  File \"C:\\Users\\lenovo\\Envs\\pyenv36\\lib\\site-packages\\tensorflow\\python\\training\\saver.py\", line 291, in _AddShardedSaveOps\n    return self._AddShardedSaveOpsForV2(filename_tensor, per_device)\n  File \"C:\\Users\\lenovo\\Envs\\pyenv36\\lib\\site-packages\\tensorflow\\python\\training\\saver.py\", line 265, in _AddShardedSaveOpsForV2\n    sharded_saves.append(self._AddSaveOps(sharded_filename, saveables))\n  File \"C:\\Users\\lenovo\\Envs\\pyenv36\\lib\\site-packages\\tensorflow\\python\\training\\saver.py\", line 206, in _AddSaveOps\n    save = self.save_op(filename_tensor, saveables)\n  File \"C:\\Users\\lenovo\\Envs\\pyenv36\\lib\\site-packages\\tensorflow\\python\\training\\saver.py\", line 122, in save_op\n    tensors)\n  File \"C:\\Users\\lenovo\\Envs\\pyenv36\\lib\\site-packages\\tensorflow\\python\\ops\\gen_io_ops.py\", line 2059, in save_v2\n    name=name)\n  File \"C:\\Users\\lenovo\\Envs\\pyenv36\\lib\\site-packages\\tensorflow\\python\\framework\\op_def_library.py\", line 788, in _apply_op_helper\n    op_def=op_def)\n  File \"C:\\Users\\lenovo\\Envs\\pyenv36\\lib\\site-packages\\tensorflow\\python\\util\\deprecation.py\", line 507, in new_func\n    return func(*args, **kwargs)\n  File \"C:\\Users\\lenovo\\Envs\\pyenv36\\lib\\site-packages\\tensorflow\\python\\framework\\ops.py\", line 3616, in create_op\n    op_def=op_def)\n  File \"C:\\Users\\lenovo\\Envs\\pyenv36\\lib\\site-packages\\tensorflow\\python\\framework\\ops.py\", line 2005, in __init__\n    self._traceback = tf_stack.extract_stack()\n"
     ]
    }
   ],
   "source": [
    "# Save the model\n",
    "# https://cloud.google.com/ml-engine/docs/deploying-models#creating_a_model_version\n",
    "# https://github.com/GoogleCloudPlatform/cloudml-dist-mnist-example\n",
    "# https://github.com/qifanoctave/hw10_507\n",
    "tf.saved_model.simple_save(sess3,\"normal_trained\",inputs={\"x_pre\":x_pre},\n",
    "                           outputs={\"prediction\":prediction})"
   ]
  },
  {
   "cell_type": "code",
   "execution_count": 27,
   "metadata": {},
   "outputs": [
    {
     "ename": "ValueError",
     "evalue": "Cannot evaluate tensor using `eval()`: No default session is registered. Use `with sess.as_default()` or pass an explicit session to `eval(session=sess)`",
     "output_type": "error",
     "traceback": [
      "\u001b[1;31m---------------------------------------------------------------------------\u001b[0m",
      "\u001b[1;31mValueError\u001b[0m                                Traceback (most recent call last)",
      "\u001b[1;32m<ipython-input-27-a0c69bd53e14>\u001b[0m in \u001b[0;36m<module>\u001b[1;34m\u001b[0m\n\u001b[0;32m      1\u001b[0m \u001b[0ma\u001b[0m\u001b[1;33m=\u001b[0m\u001b[0mtf\u001b[0m\u001b[1;33m.\u001b[0m\u001b[0margmax\u001b[0m\u001b[1;33m(\u001b[0m\u001b[1;33m[\u001b[0m\u001b[1;36m1\u001b[0m\u001b[1;33m,\u001b[0m\u001b[1;36m2\u001b[0m\u001b[1;33m,\u001b[0m\u001b[1;36m3\u001b[0m\u001b[1;33m]\u001b[0m\u001b[1;33m,\u001b[0m\u001b[1;36m1\u001b[0m\u001b[1;33m)\u001b[0m\u001b[1;33m\u001b[0m\u001b[0m\n\u001b[1;32m----> 2\u001b[1;33m \u001b[0ma\u001b[0m\u001b[1;33m.\u001b[0m\u001b[0meval\u001b[0m\u001b[1;33m(\u001b[0m\u001b[1;33m)\u001b[0m\u001b[1;33m\u001b[0m\u001b[0m\n\u001b[0m",
      "\u001b[1;32m~\\Envs\\pyenv36\\lib\\site-packages\\tensorflow\\python\\framework\\ops.py\u001b[0m in \u001b[0;36meval\u001b[1;34m(self, feed_dict, session)\u001b[0m\n\u001b[0;32m    729\u001b[0m \u001b[1;33m\u001b[0m\u001b[0m\n\u001b[0;32m    730\u001b[0m     \"\"\"\n\u001b[1;32m--> 731\u001b[1;33m     \u001b[1;32mreturn\u001b[0m \u001b[0m_eval_using_default_session\u001b[0m\u001b[1;33m(\u001b[0m\u001b[0mself\u001b[0m\u001b[1;33m,\u001b[0m \u001b[0mfeed_dict\u001b[0m\u001b[1;33m,\u001b[0m \u001b[0mself\u001b[0m\u001b[1;33m.\u001b[0m\u001b[0mgraph\u001b[0m\u001b[1;33m,\u001b[0m \u001b[0msession\u001b[0m\u001b[1;33m)\u001b[0m\u001b[1;33m\u001b[0m\u001b[0m\n\u001b[0m\u001b[0;32m    732\u001b[0m \u001b[1;33m\u001b[0m\u001b[0m\n\u001b[0;32m    733\u001b[0m \u001b[1;33m\u001b[0m\u001b[0m\n",
      "\u001b[1;32m~\\Envs\\pyenv36\\lib\\site-packages\\tensorflow\\python\\framework\\ops.py\u001b[0m in \u001b[0;36m_eval_using_default_session\u001b[1;34m(tensors, feed_dict, graph, session)\u001b[0m\n\u001b[0;32m   5563\u001b[0m     \u001b[0msession\u001b[0m \u001b[1;33m=\u001b[0m \u001b[0mget_default_session\u001b[0m\u001b[1;33m(\u001b[0m\u001b[1;33m)\u001b[0m\u001b[1;33m\u001b[0m\u001b[0m\n\u001b[0;32m   5564\u001b[0m     \u001b[1;32mif\u001b[0m \u001b[0msession\u001b[0m \u001b[1;32mis\u001b[0m \u001b[1;32mNone\u001b[0m\u001b[1;33m:\u001b[0m\u001b[1;33m\u001b[0m\u001b[0m\n\u001b[1;32m-> 5565\u001b[1;33m       raise ValueError(\"Cannot evaluate tensor using `eval()`: No default \"\n\u001b[0m\u001b[0;32m   5566\u001b[0m                        \u001b[1;34m\"session is registered. Use `with \"\u001b[0m\u001b[1;33m\u001b[0m\u001b[0m\n\u001b[0;32m   5567\u001b[0m                        \u001b[1;34m\"sess.as_default()` or pass an explicit session to \"\u001b[0m\u001b[1;33m\u001b[0m\u001b[0m\n",
      "\u001b[1;31mValueError\u001b[0m: Cannot evaluate tensor using `eval()`: No default session is registered. Use `with sess.as_default()` or pass an explicit session to `eval(session=sess)`"
     ]
    }
   ],
   "source": [
    "\n"
   ]
  },
  {
   "cell_type": "code",
   "execution_count": null,
   "metadata": {},
   "outputs": [],
   "source": []
  }
 ],
 "metadata": {
  "kernelspec": {
   "display_name": "pyenv36",
   "language": "python",
   "name": "pyenv36"
  },
  "language_info": {
   "codemirror_mode": {
    "name": "ipython",
    "version": 3
   },
   "file_extension": ".py",
   "mimetype": "text/x-python",
   "name": "python",
   "nbconvert_exporter": "python",
   "pygments_lexer": "ipython3",
   "version": "3.6.5"
  }
 },
 "nbformat": 4,
 "nbformat_minor": 2
}
