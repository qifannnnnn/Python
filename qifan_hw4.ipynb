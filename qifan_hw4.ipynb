{
 "cells": [
  {
   "cell_type": "markdown",
   "metadata": {},
   "source": [
    "### Python Homework 4\n",
    "#### Uniquename: Qifan\n",
    "#### Email: qifan@umich.edu\n",
    "#### It took me approximately 3 hours to complete this."
   ]
  },
  {
   "cell_type": "markdown",
   "metadata": {},
   "source": [
    "### Iterators and Generators"
   ]
  },
  {
   "cell_type": "code",
   "execution_count": 99,
   "metadata": {},
   "outputs": [
    {
     "data": {
      "text/plain": [
       "[0, 1, 1, 2, 3, 5, 8, 13, 21, 34]"
      ]
     },
     "execution_count": 99,
     "metadata": {},
     "output_type": "execute_result"
    }
   ],
   "source": [
    "# 1.1 Fibo sequences\n",
    "class Fibo():\n",
    "    def __init__(self):\n",
    "        self.m,self.s=-1,1   \n",
    "    def __iter__(self):\n",
    "        return(self)\n",
    "    def __next__(self):\n",
    "        self.s,self.m=self.s+self.m,self.s\n",
    "        return self.s\n",
    "a=Fibo()\n",
    "[next(a) for i in range(10)]"
   ]
  },
  {
   "cell_type": "code",
   "execution_count": 100,
   "metadata": {},
   "outputs": [
    {
     "data": {
      "text/plain": [
       "[3, 9, 12, 21, 33, 54, 87, 141, 228, 369]"
      ]
     },
     "execution_count": 100,
     "metadata": {},
     "output_type": "execute_result"
    }
   ],
   "source": [
    "# 1.2 Generalised Fibo sequences\n",
    "class GenFibo(Fibo):\n",
    "    def __init__(self,F0=0,F1=1):\n",
    "        if (not isinstance(F0,int) and not isinstance(F0,float)) or (not isinstance(F1,int) and not isinstance(F1,float)):\n",
    "            raise TypeError(\"The inputs should be numbers!\")\n",
    "        else:\n",
    "            self.m,self.s=2*F0-F1,F1-F0\n",
    "a=GenFibo(3,9)\n",
    "[next(a) for i in range(10)]\n"
   ]
  },
  {
   "cell_type": "code",
   "execution_count": 101,
   "metadata": {},
   "outputs": [
    {
     "data": {
      "text/plain": [
       "[2, 3, 5, 7, 11, 13, 17, 19, 23, 29, 31, 37, 41]"
      ]
     },
     "execution_count": 101,
     "metadata": {},
     "output_type": "execute_result"
    }
   ],
   "source": [
    "# 1.3 Generator: Primes \n",
    "def primes():\n",
    "    n=2\n",
    "    while True:\n",
    "        if all(n%i!=0 for i in range(2,n)): yield n\n",
    "        n+=1\n",
    "b=primes()\n",
    "[next(b) for i in range(13)]"
   ]
  },
  {
   "cell_type": "code",
   "execution_count": 102,
   "metadata": {},
   "outputs": [
    {
     "data": {
      "text/plain": [
       "[1,\n",
       " 2,\n",
       " 3,\n",
       " 4,\n",
       " 6,\n",
       " 8,\n",
       " 11,\n",
       " 13,\n",
       " 16,\n",
       " 18,\n",
       " 26,\n",
       " 28,\n",
       " 36,\n",
       " 38,\n",
       " 47,\n",
       " 48,\n",
       " 53,\n",
       " 57,\n",
       " 62,\n",
       " 69,\n",
       " 72,\n",
       " 77,\n",
       " 82,\n",
       " 87,\n",
       " 97]"
      ]
     },
     "execution_count": 102,
     "metadata": {},
     "output_type": "execute_result"
    }
   ],
   "source": [
    "# 1.4 Ulam Numbers\n",
    "def is_distinct(lis,num):\n",
    "    if lis==[] and num==1: return True\n",
    "    if lis==[1] and num==2: return True\n",
    "    n,s=0,[]\n",
    "    for i in lis:\n",
    "        if (num-i in lis)and (num-i!=i) and (i in s)==False: \n",
    "            n=n+1; s.append(i); s.append(num-i)\n",
    "        if n>=2: return False\n",
    "    if n==1: return True\n",
    "    else: return False\n",
    "\n",
    "def ulam():\n",
    "    lis,num=[],1\n",
    "    while True:\n",
    "        if is_distinct(lis,num): yield(num); lis.append(num) \n",
    "        num+=1\n",
    "c=ulam()\n",
    "[next(c) for i in range(25)]        "
   ]
  },
  {
   "cell_type": "markdown",
   "metadata": {},
   "source": [
    "###  List Comprehensions and Generator Expressions"
   ]
  },
  {
   "cell_type": "code",
   "execution_count": 103,
   "metadata": {},
   "outputs": [
    {
     "data": {
      "text/plain": [
       "[2,\n",
       " 8,\n",
       " 26,\n",
       " 80,\n",
       " 242,\n",
       " 728,\n",
       " 2186,\n",
       " 6560,\n",
       " 19682,\n",
       " 59048,\n",
       " 177146,\n",
       " 531440,\n",
       " 1594322,\n",
       " 4782968,\n",
       " 14348906,\n",
       " 43046720,\n",
       " 129140162,\n",
       " 387420488,\n",
       " 1162261466,\n",
       " 3486784400]"
      ]
     },
     "execution_count": 103,
     "metadata": {},
     "output_type": "execute_result"
    }
   ],
   "source": [
    "# 2.1 (list comprehension)\n",
    "pow3minus1=[3**i-1 for i in range(1,21) ]\n",
    "pow3minus1"
   ]
  },
  {
   "cell_type": "code",
   "execution_count": 104,
   "metadata": {},
   "outputs": [],
   "source": [
    "# 2.2 Generator expression\n",
    "import itertools as it\n",
    "caterer=(int((i**2+i+2)/2) for i in it.count(0))   "
   ]
  },
  {
   "cell_type": "code",
   "execution_count": 105,
   "metadata": {},
   "outputs": [],
   "source": [
    "# 2.3\n",
    "pyramid=(int(n*(n+1)*(2*n+1)/6) for n in it.count(1))"
   ]
  },
  {
   "cell_type": "code",
   "execution_count": 106,
   "metadata": {},
   "outputs": [],
   "source": [
    "# 2.4 \n",
    "octa=(int(n*(2*(n**2)+1)/3) for n in it.count(1))"
   ]
  },
  {
   "cell_type": "markdown",
   "metadata": {},
   "source": [
    "### Map, Filter and Reduce"
   ]
  },
  {
   "cell_type": "code",
   "execution_count": 107,
   "metadata": {},
   "outputs": [
    {
     "data": {
      "text/plain": [
       "100"
      ]
     },
     "execution_count": 107,
     "metadata": {},
     "output_type": "execute_result"
    }
   ],
   "source": [
    "# 3.1: One-line expression: first ten odd numbers\n",
    "import itertools as it\n",
    "import functools as func\n",
    "sum_of_odd_squares=sum(list(it.islice(filter(lambda x:x%2==1,it.count()),10)))\n",
    "sum_of_odd_squares"
   ]
  },
  {
   "cell_type": "code",
   "execution_count": 108,
   "metadata": {},
   "outputs": [
    {
     "data": {
      "text/plain": [
       "304250263527210"
      ]
     },
     "execution_count": 108,
     "metadata": {},
     "output_type": "execute_result"
    }
   ],
   "source": [
    "# 3.2 product of primes\n",
    "product_of_primes=func.reduce(lambda x,y:x*y, list(it.islice(primes(),13)))\n",
    "product_of_primes"
   ]
  },
  {
   "cell_type": "code",
   "execution_count": 109,
   "metadata": {},
   "outputs": [
    {
     "data": {
      "text/plain": [
       "138834"
      ]
     },
     "execution_count": 109,
     "metadata": {},
     "output_type": "execute_result"
    }
   ],
   "source": [
    "# 3.3  \n",
    "squared_primes=func.reduce(lambda x,y:x+y,(map(lambda x:x**2, list(it.islice(primes(),31)))))\n",
    "squared_primes"
   ]
  },
  {
   "cell_type": "code",
   "execution_count": 110,
   "metadata": {},
   "outputs": [
    {
     "data": {
      "text/plain": [
       "[1.0,\n",
       " 1.5,\n",
       " 1.8333333333333333,\n",
       " 2.083333333333333,\n",
       " 2.283333333333333,\n",
       " 2.4499999999999997,\n",
       " 2.5928571428571425,\n",
       " 2.7178571428571425,\n",
       " 2.8289682539682537,\n",
       " 2.9289682539682538,\n",
       " 3.0198773448773446,\n",
       " 3.103210678210678,\n",
       " 3.180133755133755,\n",
       " 3.251562326562327,\n",
       " 3.3182289932289937,\n",
       " 3.3807289932289937,\n",
       " 3.439552522640758,\n",
       " 3.4951080781963135,\n",
       " 3.547739657143682,\n",
       " 3.597739657143682]"
      ]
     },
     "execution_count": 110,
     "metadata": {},
     "output_type": "execute_result"
    }
   ],
   "source": [
    "# 3.4\n",
    "harmonics=list(it.accumulate(list(it.islice(map(lambda x:1/x,it.count(1)),20)),lambda x,y:x+y))\n",
    "harmonics"
   ]
  },
  {
   "cell_type": "code",
   "execution_count": 111,
   "metadata": {},
   "outputs": [],
   "source": [
    "# 3.5\n",
    "octa_geom=(func.reduce(lambda x,y:x*y,list(it.islice(octa,12))))**(1/12)"
   ]
  },
  {
   "cell_type": "markdown",
   "metadata": {},
   "source": [
    "### Fun with Polynomials "
   ]
  },
  {
   "cell_type": "code",
   "execution_count": 112,
   "metadata": {},
   "outputs": [
    {
     "data": {
      "text/plain": [
       "34"
      ]
     },
     "execution_count": 112,
     "metadata": {},
     "output_type": "execute_result"
    }
   ],
   "source": [
    "# 4.1: Higher order function\n",
    "def make_poly(coeffs):\n",
    "    def p(x):\n",
    "        sum=0\n",
    "        for i in range(len(coeffs)): sum+=coeffs[i]*(x**i)\n",
    "        return sum\n",
    "    return p\n",
    "make_poly([1,2,3])(3)"
   ]
  },
  {
   "cell_type": "code",
   "execution_count": 113,
   "metadata": {},
   "outputs": [],
   "source": [
    "# 4.2  One line expression\n",
    "def eval_poly(coeffs,args):\n",
    "    return(list(map(make_poly(coeffs),args)))"
   ]
  },
  {
   "cell_type": "code",
   "execution_count": 114,
   "metadata": {},
   "outputs": [
    {
     "data": {
      "text/plain": [
       "[1, 6, 17, 34]"
      ]
     },
     "execution_count": 114,
     "metadata": {},
     "output_type": "execute_result"
    }
   ],
   "source": [
    "eval_poly([1,2,3],[0,1,2,3])"
   ]
  },
  {
   "cell_type": "code",
   "execution_count": null,
   "metadata": {},
   "outputs": [],
   "source": []
  }
 ],
 "metadata": {
  "kernelspec": {
   "display_name": "Python 3",
   "language": "python",
   "name": "python3"
  },
  "language_info": {
   "codemirror_mode": {
    "name": "ipython",
    "version": 3
   },
   "file_extension": ".py",
   "mimetype": "text/x-python",
   "name": "python",
   "nbconvert_exporter": "python",
   "pygments_lexer": "ipython3",
   "version": "3.7.4"
  }
 },
 "nbformat": 4,
 "nbformat_minor": 2
}
