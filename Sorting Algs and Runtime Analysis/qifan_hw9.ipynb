{
 "cells": [
  {
   "cell_type": "markdown",
   "metadata": {},
   "source": [
    "### Python Homework 8\n",
    "#### Uniquename: Qifan\n",
    "#### Email: qifan@umich.edu\n",
    "#### It took me approximately 4 hours to complete this."
   ]
  },
  {
   "cell_type": "markdown",
   "metadata": {},
   "source": [
    "## Problem 1"
   ]
  },
  {
   "cell_type": "code",
   "execution_count": 9,
   "metadata": {},
   "outputs": [],
   "source": [
    "import time\n",
    "class Trie:\n",
    "    ''' Representing strings in a dictionary'''\n",
    "    def __init__(self):\n",
    "        self.root=dict()\n",
    "    def add(self,s):\n",
    "        temp=self.root\n",
    "        if len(s)==0:\n",
    "            temp[s]=None\n",
    "        for i in range(len(s)):\n",
    "            mid=temp.get(s[i],dict())\n",
    "            temp[s[i]]=mid\n",
    "            temp=temp[s[i]]\n",
    "        temp[\"\"]=None\n",
    "        \n",
    "    def helper(self,s,dic):\n",
    "        if len(s)==0:\n",
    "            if \"\" in dic.keys(): return True\n",
    "            else: return False\n",
    "        elif not s[0] in dic.keys(): return False\n",
    "        elif len(s)==1 and \"\" in dic[s[0]].keys(): return True\n",
    "        elif len(s)==1 and (not \"\" in dic[s[0]].keys()): return False\n",
    "        else: \n",
    "            if self.helper(s[1:],dic[s[0]]): return True\n",
    "            else: return False\n",
    "    def contains(self,s):\n",
    "        return self.helper(s,self.root)\n",
    "    def __repr__(self):\n",
    "        return str(self.root)\n",
    "        \n",
    "        \n",
    "        "
   ]
  },
  {
   "cell_type": "code",
   "execution_count": 10,
   "metadata": {},
   "outputs": [
    {
     "data": {
      "text/plain": [
       "False"
      ]
     },
     "execution_count": 10,
     "metadata": {},
     "output_type": "execute_result"
    }
   ],
   "source": [
    "t=Trie()\n",
    "t.add(\"cat\")\n",
    "t.add(\"car\")\n",
    "#t.add(\"\")\n",
    "#t.add(\"\")\n",
    "t.contains(\"das\")"
   ]
  },
  {
   "cell_type": "code",
   "execution_count": 11,
   "metadata": {},
   "outputs": [],
   "source": [
    "def wordlist2trie(lis):\n",
    "    if not isinstance(lis,list):\n",
    "        raise TypeError(\"The input should be a list!\")\n",
    "    if not all(isinstance(x,str) for x in lis):\n",
    "        raise TypeError(\"Every element in the list should be a string\")\n",
    "    t=Trie()\n",
    "    for i in lis:\n",
    "        if not t.contains(i):\n",
    "            t.add(i)\n",
    "    return t"
   ]
  },
  {
   "cell_type": "code",
   "execution_count": 12,
   "metadata": {},
   "outputs": [],
   "source": [
    "#wordlist2trie([\"1\",\"2\",\"3\"])"
   ]
  },
  {
   "cell_type": "code",
   "execution_count": 13,
   "metadata": {},
   "outputs": [
    {
     "data": {
      "text/plain": [
       "{'c': {'o': {'': None, 'g': {'': None}}, '': None}}"
      ]
     },
     "execution_count": 13,
     "metadata": {},
     "output_type": "execute_result"
    }
   ],
   "source": [
    "lis=[\"co\",\"cog\",\"c\"]\n",
    "u=wordlist2trie(lis)\n",
    "u.root"
   ]
  },
  {
   "cell_type": "code",
   "execution_count": 14,
   "metadata": {},
   "outputs": [],
   "source": [
    "import urllib.request\n",
    "word_file=urllib.request.urlopen(\"http://www.greenteapress.com/thinkpython/code/words.txt\")\n",
    "words=word_file.read().decode(\"ascii\")\n",
    "word_list=[]\n",
    "for i in words.split(\"\\n\"):\n",
    "    word_list.append(i.strip())\n",
    "big_trie=wordlist2trie(word_list)\n"
   ]
  },
  {
   "cell_type": "code",
   "execution_count": 15,
   "metadata": {},
   "outputs": [],
   "source": [
    "#print(big_trie)"
   ]
  },
  {
   "cell_type": "code",
   "execution_count": 16,
   "metadata": {},
   "outputs": [],
   "source": [
    "#big_trie.contains(\"abeyanciest\")"
   ]
  },
  {
   "cell_type": "markdown",
   "metadata": {},
   "source": [
    "## Problem 2"
   ]
  },
  {
   "cell_type": "code",
   "execution_count": 17,
   "metadata": {},
   "outputs": [],
   "source": [
    "def validity(lis):\n",
    "    if not isinstance(lis,list): return False\n",
    "    if not all(isinstance(i,int) or isinstance(i,float) for i in lis): return False\n",
    "    return True"
   ]
  },
  {
   "cell_type": "code",
   "execution_count": null,
   "metadata": {},
   "outputs": [],
   "source": []
  },
  {
   "cell_type": "code",
   "execution_count": 18,
   "metadata": {},
   "outputs": [],
   "source": [
    "# Merge Sort\n",
    "def mergesort(lis):\n",
    "    if not validity(lis): \n",
    "        raise TypeError(\"The input should be a list composed of integers or floats!\")\n",
    "    l=len(lis)\n",
    "    if l<=1: return lis\n",
    "    left,right=[],[]\n",
    "    for i in range(l):\n",
    "        if i<l/2: left.append(lis[i])\n",
    "        else: right.append(lis[i])\n",
    "    left=mergesort(left)\n",
    "    right=mergesort(right)\n",
    "    return Merge(left,right)\n",
    "def Merge(left,right):\n",
    "    result=[]\n",
    "    while len(left)!=0 and len(right)!=0:\n",
    "        if right[0]<left[0]: \n",
    "            result.append(right[0])\n",
    "            right=right[1:]\n",
    "        else:\n",
    "            result.append(left[0])\n",
    "            left=left[1:]\n",
    "    while len(left)!=0 and len(right)==0:\n",
    "        result.append(left[0])\n",
    "        left=left[1:]\n",
    "    while len(right)!=0 and len(left)==0:\n",
    "        result.append(right[0])\n",
    "        right=right[1:]\n",
    "    return result"
   ]
  },
  {
   "cell_type": "code",
   "execution_count": 19,
   "metadata": {},
   "outputs": [],
   "source": [
    "def quicksort(lis):\n",
    "    #print(\"a\")\n",
    "    if not validity(lis): \n",
    "        raise TypeError(\"The input should be a list composed of integers or floats!\")\n",
    "    if len(lis)==0: return []\n",
    "    if len(lis)==1: return lis\n",
    "    pivot=lis[-1]\n",
    "    less,more,equal=[],[],[]\n",
    "    for i in lis:\n",
    "        if i<pivot: less.append(i)\n",
    "        elif i>pivot: more.append(i)\n",
    "        else: equal.append(i)\n",
    "    return quicksort(less)+equal+quicksort(more)"
   ]
  },
  {
   "cell_type": "code",
   "execution_count": 20,
   "metadata": {},
   "outputs": [],
   "source": [
    "#quicksort([1,2,3,9,11])"
   ]
  },
  {
   "cell_type": "code",
   "execution_count": 21,
   "metadata": {},
   "outputs": [],
   "source": [
    "def bubblesort(lis):\n",
    "    if not validity(lis): \n",
    "        raise TypeError(\"The input should be a list composed of integers or floats!\")\n",
    "    if len(lis)<=1: return lis\n",
    "    m=True\n",
    "    while m:\n",
    "        m=False\n",
    "        for i in range(1,len(lis)):\n",
    "            if lis[i]<lis[i-1]:\n",
    "                lis[i-1],lis[i]=lis[i],lis[i-1]\n",
    "                m=True\n",
    "    return lis"
   ]
  },
  {
   "cell_type": "code",
   "execution_count": 22,
   "metadata": {},
   "outputs": [],
   "source": [
    "def run_timing_expt(lis):\n",
    "    if not validity(lis):\n",
    "        raise TypeError(\"The input should be a list composed of integers or floats!\")\n",
    "    t_merge_start=time.time()\n",
    "    mergesort(lis)\n",
    "    t_merge_end=time.time()\n",
    "        \n",
    "    t_quick_start=time.time()\n",
    "    quicksort(lis)\n",
    "    t_quick_end=time.time()\n",
    "        \n",
    "    t_bubble_start=time.time()\n",
    "    bubblesort(lis)\n",
    "    t_bubble_end=time.time()\n",
    "    t_merge,t_quick,t_bubble=t_merge_end-t_merge_start,t_quick_end-t_quick_start,t_bubble_end-t_bubble_start\n",
    "    return (t_merge,t_quick,t_bubble)"
   ]
  },
  {
   "cell_type": "code",
   "execution_count": null,
   "metadata": {},
   "outputs": [],
   "source": []
  },
  {
   "cell_type": "code",
   "execution_count": 23,
   "metadata": {},
   "outputs": [],
   "source": [
    "import numpy as np\n",
    "import pandas as pd\n",
    "import random\n",
    "n= [500,1000,1500,2000,2500]\n",
    "timing_merge=pd.DataFrame({\"a\":[0]*20,\"b\":[0]*20,\"c\":[0]*20,\"d\":[0]*20,\"e\":[0]*20})\n",
    "timing_quick=pd.DataFrame({\"a\":[0]*20,\"b\":[0]*20,\"c\":[0]*20,\"d\":[0]*20,\"e\":[0]*20})\n",
    "timing_bubble=pd.DataFrame({\"a\":[0]*20,\"b\":[0]*20,\"c\":[0]*20,\"d\":[0]*20,\"e\":[0]*20})\n",
    "for i in range(5):\n",
    "    for j in range(20):\n",
    "        result=run_timing_expt(list(range(n[i])))\n",
    "        timing_merge.iloc[j,i]=result[0]\n",
    "        timing_quick.iloc[j,i]=result[1]\n",
    "        timing_bubble.iloc[j,i]=result[2]\n"
   ]
  },
  {
   "cell_type": "code",
   "execution_count": 25,
   "metadata": {},
   "outputs": [
    {
     "data": {
      "image/png": "[encoded data removed]",
      "text/plain": [
       "<Figure size 432x288 with 1 Axes>"
      ]
     },
     "metadata": {
      "needs_background": "light"
     },
     "output_type": "display_data"
    }
   ],
   "source": [
    "import matplotlib.pyplot as pyt\n",
    "import math as m\n",
    "x=[\"500\",\"1000\",\"1500\",\"2000\",\"2500\"]\n",
    "#pyt.figure(figsize=(14,3.5))\n",
    "#pyt.subplot(131)\n",
    "pyt.errorbar(x,np.mean(timing_merge),yerr=np.std(timing_merge)/m.sqrt(20),label=\"Merge Sort\")\n",
    "#pyt.title(\"Runing Time of Merge Sort\")\n",
    "#pyt.subplot(132)\n",
    "pyt.errorbar(x,np.mean(timing_quick),yerr=np.std(timing_quick)/m.sqrt(20),label=\"Quick Sort\")\n",
    "#pyt.title(\"Runing Time of Quick Sort\")\n",
    "#pyt.subplot(133)\n",
    "#pyt.subplots_adjust(left=0.01, right=0.9, top=0.9, bottom=0.1)\n",
    "pyt.errorbar(x,np.mean(timing_bubble),yerr=np.std(timing_bubble)/m.sqrt(20),label=\"Bubble Sort\")\n",
    "#pyt.title(\"Runing Time of Bubble Sort\")\n",
    "pyt.title(\"Comparison of Runing Time for Sorting List in Asceding Order\",fontsize=13)\n",
    "pyt.xlabel(\"List Length\")\n",
    "pyt.ylabel(\"Avg Running Time\")\n",
    "pyt.legend()\n",
    "pyt.savefig(\"ascending.pdf\")\n",
    "_=pyt.show()\n"
   ]
  },
  {
   "cell_type": "markdown",
   "metadata": {},
   "source": [
    "##### For quicksort, when the length of a sorted list is larger than 2500 (when the pivot is the last element), the function will recurse for more than 5000 times.\n",
    "##### Each time when calling quicksort([1:n]), less=[1:n-1] and more=[n]. Therefore when the lenght for a sorted list is n, the recursion will happen n*2-1 times.\n",
    "#### Note: The standard error of the avg running time is calculated by sqrt(variance/20) and this made the error bar in most cases too small to be visible."
   ]
  },
  {
   "cell_type": "code",
   "execution_count": null,
   "metadata": {},
   "outputs": [],
   "source": [
    "n= [500,1000,1500,2000,2500]\n",
    "timing_merge2=pd.DataFrame({\"a\":[0]*20,\"b\":[0]*20,\"c\":[0]*20,\"d\":[0]*20,\"e\":[0]*20})\n",
    "timing_quick2=pd.DataFrame({\"a\":[0]*20,\"b\":[0]*20,\"c\":[0]*20,\"d\":[0]*20,\"e\":[0]*20})\n",
    "timing_bubble2=pd.DataFrame({\"a\":[0]*20,\"b\":[0]*20,\"c\":[0]*20,\"d\":[0]*20,\"e\":[0]*20})\n",
    "for i in range(5):\n",
    "    for j in range(20):\n",
    "        result=run_timing_expt(sorted(list(range(n[i])), reverse=True))\n",
    "        timing_merge2.iloc[j,i]=result[0]\n",
    "        timing_quick2.iloc[j,i]=result[1]\n",
    "        timing_bubble2.iloc[j,i]=result[2]"
   ]
  },
  {
   "cell_type": "code",
   "execution_count": 1,
   "metadata": {},
   "outputs": [
    {
     "ename": "NameError",
     "evalue": "name 'pyt' is not defined",
     "output_type": "error",
     "traceback": [
      "\u001b[1;31m---------------------------------------------------------------------------\u001b[0m",
      "\u001b[1;31mNameError\u001b[0m                                 Traceback (most recent call last)",
      "\u001b[1;32m<ipython-input-1-31e43ccf4405>\u001b[0m in \u001b[0;36m<module>\u001b[1;34m\u001b[0m\n\u001b[0;32m      2\u001b[0m \u001b[1;31m#pyt.figure(figsize=(14,3.5))\u001b[0m\u001b[1;33m\u001b[0m\u001b[1;33m\u001b[0m\u001b[1;33m\u001b[0m\u001b[0m\n\u001b[0;32m      3\u001b[0m \u001b[1;31m#pyt.subplot(131)\u001b[0m\u001b[1;33m\u001b[0m\u001b[1;33m\u001b[0m\u001b[1;33m\u001b[0m\u001b[0m\n\u001b[1;32m----> 4\u001b[1;33m \u001b[0mpyt\u001b[0m\u001b[1;33m.\u001b[0m\u001b[0merrorbar\u001b[0m\u001b[1;33m(\u001b[0m\u001b[0mx\u001b[0m\u001b[1;33m,\u001b[0m\u001b[0mnp\u001b[0m\u001b[1;33m.\u001b[0m\u001b[0mmean\u001b[0m\u001b[1;33m(\u001b[0m\u001b[0mtiming_merge2\u001b[0m\u001b[1;33m)\u001b[0m\u001b[1;33m,\u001b[0m\u001b[0myerr\u001b[0m\u001b[1;33m=\u001b[0m\u001b[0mnp\u001b[0m\u001b[1;33m.\u001b[0m\u001b[0mstd\u001b[0m\u001b[1;33m(\u001b[0m\u001b[0mtiming_merge2\u001b[0m\u001b[1;33m)\u001b[0m\u001b[1;33m/\u001b[0m\u001b[0mm\u001b[0m\u001b[1;33m.\u001b[0m\u001b[0msqrt\u001b[0m\u001b[1;33m(\u001b[0m\u001b[1;36m20\u001b[0m\u001b[1;33m)\u001b[0m\u001b[1;33m,\u001b[0m\u001b[0mlabel\u001b[0m\u001b[1;33m=\u001b[0m\u001b[1;34m\"Merge Sort\"\u001b[0m\u001b[1;33m)\u001b[0m\u001b[1;33m\u001b[0m\u001b[1;33m\u001b[0m\u001b[0m\n\u001b[0m\u001b[0;32m      5\u001b[0m \u001b[1;31m#pyt.title(\"Runing Time of Merge Sort\")\u001b[0m\u001b[1;33m\u001b[0m\u001b[1;33m\u001b[0m\u001b[1;33m\u001b[0m\u001b[0m\n\u001b[0;32m      6\u001b[0m \u001b[1;31m#pyt.subplot(132)\u001b[0m\u001b[1;33m\u001b[0m\u001b[1;33m\u001b[0m\u001b[1;33m\u001b[0m\u001b[0m\n",
      "\u001b[1;31mNameError\u001b[0m: name 'pyt' is not defined"
     ]
    }
   ],
   "source": [
    "x=[\"500\",\"1000\",\"1500\",\"2000\",\"2500\"]\n",
    "#pyt.figure(figsize=(14,3.5))\n",
    "#pyt.subplot(131)\n",
    "pyt.errorbar(x,np.mean(timing_merge2),yerr=np.std(timing_merge2)/m.sqrt(20),label=\"Merge Sort\")\n",
    "#pyt.title(\"Runing Time of Merge Sort\")\n",
    "#pyt.subplot(132)\n",
    "pyt.errorbar(x,np.mean(timing_quick2),yerr=np.std(timing_quick2)/m.sqrt(20),label=\"Quick Sort\")\n",
    "#pyt.title(\"Runing Time of Quick Sort\")\n",
    "#pyt.subplot(133)\n",
    "#pyt.subplots_adjust(left=0.01, right=0.9, top=0.9, bottom=0.1)\n",
    "pyt.errorbar(x,np.mean(timing_bubble2),yerr=np.std(timing_bubble2)/m.sqrt(20),label=\"Bubble Sort\")\n",
    "#pyt.title(\"Runing Time of Bubble Sort\")\n",
    "pyt.title(\"Comparison of Runing Time for Sorting List in Descending Order\",fontsize=13)\n",
    "pyt.xlabel(\"List Length\")\n",
    "pyt.ylabel(\"Avg Running Time\")\n",
    "pyt.legend()\n",
    "pyt.savefig(\"descending.pdf\")\n",
    "_=pyt.show()\n"
   ]
  },
  {
   "cell_type": "code",
   "execution_count": 34,
   "metadata": {},
   "outputs": [],
   "source": [
    "n= [500,1000,1500,2000,2500]\n",
    "timing_merge3=pd.DataFrame({\"a\":[0]*20,\"b\":[0]*20,\"c\":[0]*20,\"d\":[0]*20,\"e\":[0]*20})\n",
    "timing_quick3=pd.DataFrame({\"a\":[0]*20,\"b\":[0]*20,\"c\":[0]*20,\"d\":[0]*20,\"e\":[0]*20})\n",
    "timing_bubble3=pd.DataFrame({\"a\":[0]*20,\"b\":[0]*20,\"c\":[0]*20,\"d\":[0]*20,\"e\":[0]*20})\n",
    "for i in range(5):\n",
    "    for j in range(20):\n",
    "        result=run_timing_expt([random.random() for _ in range(n[i])])\n",
    "        timing_merge3.iloc[j,i]=result[0]\n",
    "        timing_quick3.iloc[j,i]=result[1]\n",
    "        timing_bubble3.iloc[j,i]=result[2]"
   ]
  },
  {
   "cell_type": "code",
   "execution_count": 35,
   "metadata": {},
   "outputs": [
    {
     "data": {
      "image/png": "[encoded data removed]",
      "text/plain": [
       "<Figure size 432x288 with 1 Axes>"
      ]
     },
     "metadata": {
      "needs_background": "light"
     },
     "output_type": "display_data"
    }
   ],
   "source": [
    "x=[\"500\",\"1000\",\"1500\",\"2000\",\"2500\"]\n",
    "#pyt.figure(figsize=(14,3.5))\n",
    "#pyt.subplot(131)\n",
    "pyt.errorbar(x,np.mean(timing_merge3),yerr=np.std(timing_merge3)/m.sqrt(20),label=\"Merge Sort\")\n",
    "#pyt.title(\"Runing Time of Merge Sort\")\n",
    "#pyt.subplot(132)\n",
    "pyt.errorbar(x,np.mean(timing_quick3),yerr=np.std(timing_quick3)/m.sqrt(20),label=\"Quick Sort\")\n",
    "#pyt.title(\"Runing Time of Quick Sort\")\n",
    "#pyt.subplot(133)\n",
    "#pyt.subplots_adjust(left=0.01, right=0.9, top=0.9, bottom=0.1)\n",
    "pyt.errorbar(x,np.mean(timing_bubble3),yerr=np.std(timing_bubble3)/m.sqrt(20),label=\"Bubble Sort\")\n",
    "#pyt.title(\"Runing Time of Bubble Sort\")\n",
    "pyt.title(\"Comparison of Runing Time for Sorting List of Random Number\",fontsize=13)#pyt.xlabel(\"List Length\")\n",
    "pyt.ylabel(\"Avg Running Time\")\n",
    "pyt.legend()\n",
    "pyt.savefig(\"random.pdf\")\n",
    "_=pyt.show()"
   ]
  },
  {
   "cell_type": "code",
   "execution_count": null,
   "metadata": {},
   "outputs": [],
   "source": []
  }
 ],
 "metadata": {
  "kernelspec": {
   "display_name": "Python 3",
   "language": "python",
   "name": "python3"
  },
  "language_info": {
   "codemirror_mode": {
    "name": "ipython",
    "version": 3
   },
   "file_extension": ".py",
   "mimetype": "text/x-python",
   "name": "python",
   "nbconvert_exporter": "python",
   "pygments_lexer": "ipython3",
   "version": "3.7.3"
  }
 },
 "nbformat": 4,
 "nbformat_minor": 2
}
